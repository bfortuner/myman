{
 "cells": [
  {
   "cell_type": "markdown",
   "metadata": {},
   "source": [
    "Welcome, to Punisher. After running your strategy, view the live results with Dash\n",
    "\n",
    "```\n",
    "$ python -m punisher.charts.dash_charts.dash_record --name default_backtest\n",
    "```"
   ]
  },
  {
   "cell_type": "markdown",
   "metadata": {},
   "source": [
    "## Define Strategy"
   ]
  },
  {
   "cell_type": "code",
   "execution_count": 1,
   "metadata": {},
   "outputs": [],
   "source": [
    "%matplotlib inline\n",
    "%load_ext autoreload\n",
    "%autoreload 2\n",
    "from punisher.common import *\n",
    "\n",
    "from punisher.strategies.strategy import Strategy"
   ]
  },
  {
   "cell_type": "code",
   "execution_count": 2,
   "metadata": {},
   "outputs": [],
   "source": [
    "class SimpleStrategy(Strategy):\n",
    "    def __init__(self, asset, quantity):\n",
    "        super().__init__()\n",
    "        self.asset = asset\n",
    "        self.quantity = quantity\n",
    "\n",
    "    def log_all(self, orders, data, ctx, utc):\n",
    "        self.logger = ctx.logger\n",
    "        if self.logger is not None:\n",
    "            self.log_epoch_time(utc)\n",
    "            self.log_ohlcv(data, self.asset.symbol, ctx.exchange.id)\n",
    "            self.log_orders(orders)\n",
    "            self.log_performance(ctx)\n",
    "            self.log_balance(ctx)\n",
    "            self.log_positions(ctx)\n",
    "            self.log_metrics(ctx)\n",
    "\n",
    "    def handle_data(self, data, ctx):\n",
    "        new_orders = []\n",
    "        quantity = .05\n",
    "        price = data.get('close', self.asset.symbol, ctx.exchange.id)\n",
    "        current_time = data.get('utc')\n",
    "        if random.random() > 0.5:\n",
    "            order = order_manager.build_limit_buy_order(\n",
    "                ctx.record.portfolio.balance, ctx.exchange, self.asset, quantity, price, current_time)\n",
    "            new_orders.append(order)\n",
    "        elif ctx.record.balance.get(self.asset.base)[BalanceType.FREE] > quantity:\n",
    "            order = order_manager.build_market_sell_order(\n",
    "                ctx.record.portfolio.balance, ctx.exchange, self.asset, quantity, current_time)\n",
    "            new_orders.append(order)\n",
    "\n",
    "        # Optionally cancel pending orders (LIVE trading)\n",
    "        #pending_orders = ctx.exchange.fetch_open_orders(asset)\n",
    "        cancel_ids = []\n",
    "\n",
    "        # Add Metrics and OHLCV to Record\n",
    "        self.update_metric('SMA', 5.0, ctx)\n",
    "        self.update_metric('RSI', 10.0, ctx)\n",
    "        self.update_ohlcv(data, ctx)\n",
    "        self.log_all(new_orders, data, ctx, current_time)\n",
    "        return {\n",
    "            'new_orders': new_orders,\n",
    "            'cancel_ids': cancel_ids\n",
    "        }"
   ]
  },
  {
   "cell_type": "markdown",
   "metadata": {},
   "source": [
    "## Backtest"
   ]
  },
  {
   "cell_type": "markdown",
   "metadata": {},
   "source": [
    "### Backtest From Local CSV Files"
   ]
  },
  {
   "cell_type": "code",
   "execution_count": null,
   "metadata": {},
   "outputs": [],
   "source": [
    "# Download some data from Binance\n",
    "exchange_id = ex_cfg.BINANCE\n",
    "timeframe = Timeframe.THIRTY_MIN\n",
    "start = datetime.datetime(year=2018, month=1, day=1, hour=0)\n",
    "end = datetime.datetime(year=2018, month=1, day=5, hour=0)\n",
    "assets = [Asset(coins.ETH, coins.BTC), Asset(coins.BTC, coins.USDT)]\n",
    "data_exchange = load_exchange(exchange_id)\n",
    "ohlcv_feed.download_ohlcv([data_exchange], assets, timeframe, start, end)"
   ]
  },
  {
   "cell_type": "code",
   "execution_count": null,
   "metadata": {},
   "outputs": [],
   "source": [
    "# Setup the Feed Based Paper Exchange\n",
    "cash = 1.0\n",
    "cash_currency = coins.BTC\n",
    "balance = Balance(\n",
    "    cash_currency=cash_currency,\n",
    "    starting_cash=cash\n",
    ")\n",
    "perf_tracker = PerformanceTracker(\n",
    "    starting_cash=cash, \n",
    "    timeframe=timeframe\n",
    ")\n",
    "portfolio = Portfolio(\n",
    "    cash_currency=cash_currency,\n",
    "    starting_balance=deepcopy(balance),\n",
    "    perf_tracker=perf_tracker, # option to override, otherwise default\n",
    "    positions=None # option to override with existing positions\n",
    ")\n",
    "feed = OHLCVFileFeed(\n",
    "    exchange_ids=[exchange_id],\n",
    "    assets=assets,\n",
    "    timeframe=timeframe,\n",
    "    start=None, # Usually None for backtest, but its possible to filter the csv\n",
    "    end=None\n",
    ")\n",
    "exchange = load_feed_based_paper_exchange(deepcopy(balance), feed, exchange_id)\n",
    "strategy = SimpleStrategy(assets[0], quantity=.05)\n",
    "experiment_name = 'default_backtest'"
   ]
  },
  {
   "cell_type": "code",
   "execution_count": null,
   "metadata": {
    "scrolled": true
   },
   "outputs": [],
   "source": [
    "runner.backtest(experiment_name, exchange, balance, portfolio, feed, strategy)"
   ]
  },
  {
   "cell_type": "code",
   "execution_count": null,
   "metadata": {},
   "outputs": [],
   "source": [
    "record"
   ]
  },
  {
   "cell_type": "markdown",
   "metadata": {},
   "source": [
    "### Backtest from External Exchange Data"
   ]
  },
  {
   "cell_type": "code",
   "execution_count": null,
   "metadata": {
    "scrolled": false
   },
   "outputs": [],
   "source": [
    "cash = 1.0\n",
    "cash_currency = coins.BTC\n",
    "balance = Balance(\n",
    "    cash_currency=cash_currency,\n",
    "    starting_cash=cash\n",
    ")\n",
    "exchange = load_ccxt_based_paper_exchange(balance, ex_cfg.BINANCE)\n",
    "perf_tracker = PerformanceTracker(\n",
    "    starting_cash=cash, \n",
    "    timeframe=Timeframe.ONE_MIN\n",
    ")\n",
    "portfolio = Portfolio(\n",
    "    cash_currency=cash_currency,\n",
    "    starting_balance=balance,\n",
    "    perf_tracker=perf_tracker, # option to override, otherwise default\n",
    "    positions=None # option to override with existing positions\n",
    ")\n",
    "\n",
    "assets = [Asset(coins.ETH, coins.BTC), Asset(coins.LTC, coins.BTC)]\n",
    "feed = OHLCVExchangeFeed(\n",
    "    exchanges=[exchange],\n",
    "    assets=assets,\n",
    "    timeframe=Timeframe.ONE_MIN,\n",
    "    start=datetime.datetime.utcnow()-datetime.timedelta(days=1),\n",
    "    end=None\n",
    ")\n",
    "strategy = SimpleStrategy(assets[0], quantity=.05)"
   ]
  },
  {
   "cell_type": "code",
   "execution_count": null,
   "metadata": {},
   "outputs": [],
   "source": [
    "experiment_name = 'default_backtest_exchange'\n",
    "runner.backtest(experiment_name, exchange, balance, portfolio, feed, strategy)"
   ]
  },
  {
   "cell_type": "markdown",
   "metadata": {},
   "source": [
    "## Simulate Orders"
   ]
  },
  {
   "cell_type": "code",
   "execution_count": 3,
   "metadata": {
    "scrolled": false
   },
   "outputs": [
    {
     "name": "stdout",
     "output_type": "stream",
     "text": [
      "START 2018-02-01 05:53:25.971572\n",
      "END 2018-02-01 05:53:25.971587\n",
      "Downloading: ETH/BTC\n",
      "Downloaded rows: 0\n",
      "Downloading: LTC/BTC\n",
      "Downloaded rows: 0\n",
      "Downloading: BTC/USDT\n",
      "Downloaded rows: 0\n"
     ]
    }
   ],
   "source": [
    "cash = 1.0\n",
    "cash_currency = coins.BTC\n",
    "balance = Balance(\n",
    "    cash_currency=coins.BTC,\n",
    "    starting_cash=cash\n",
    ")\n",
    "exchange = load_ccxt_based_paper_exchange(balance, ex_cfg.BINANCE)\n",
    "perf_tracker = PerformanceTracker(\n",
    "    starting_cash=cash, \n",
    "    timeframe=Timeframe.ONE_MIN\n",
    ")\n",
    "portfolio = Portfolio(\n",
    "    cash_currency=cash_currency,\n",
    "    starting_balance=deepcopy(balance),\n",
    "    perf_tracker=perf_tracker, # option to override, otherwise default\n",
    "    positions=None # option to override with existing positions\n",
    ")\n",
    "\n",
    "assets = [Asset(coins.ETH, coins.BTC), Asset(coins.LTC, coins.BTC)]\n",
    "feed = OHLCVExchangeFeed(\n",
    "    exchanges=[exchange],\n",
    "    assets=assets,\n",
    "    timeframe=Timeframe.ONE_MIN,\n",
    "    start=datetime.datetime.utcnow(),\n",
    "    end=None\n",
    ")\n",
    "strategy = SimpleStrategy(assets[0], quantity=.05)"
   ]
  },
  {
   "cell_type": "code",
   "execution_count": 4,
   "metadata": {
    "scrolled": false
   },
   "outputs": [
    {
     "name": "stdout",
     "output_type": "stream",
     "text": [
      "Downloading: ETH/BTC\n",
      "Downloaded rows: 0\n",
      "Downloading: LTC/BTC\n",
      "Downloaded rows: 0\n",
      "Downloading: BTC/USDT\n",
      "Downloaded rows: 0\n",
      "No data after prior poll: 2018-02-01 05:52:25.971572\n",
      "Downloading: ETH/BTC\n",
      "Downloaded rows: 0\n",
      "Downloading: LTC/BTC\n",
      "Downloaded rows: 0\n",
      "Downloading: BTC/USDT\n",
      "Downloaded rows: 0\n",
      "No data after prior poll: 2018-02-01 05:52:25.971572\n",
      "Downloading: ETH/BTC\n",
      "Downloaded rows: 0\n",
      "Downloading: LTC/BTC\n",
      "Downloaded rows: 0\n",
      "Downloading: BTC/USDT\n",
      "Downloaded rows: 0\n",
      "No data after prior poll: 2018-02-01 05:52:25.971572\n",
      "Downloading: ETH/BTC\n",
      "Downloaded rows: 1\n",
      "Downloading: LTC/BTC\n",
      "Downloaded rows: 1\n",
      "Downloading: BTC/USDT\n"
     ]
    },
    {
     "name": "stderr",
     "output_type": "stream",
     "text": [
      "---------------------------------------\n",
      "Epoch 1 - Timestep: 2018-02-01T05:54:00\n",
      "---------------------------------------\n",
      "OHLCV\n",
      "    O: 0.1132 | C: 0.1132 | V: 30.1 | T: 2018-02-01T05:54:00\n",
      "ORDERS\n",
      "PERFORMANCE\n",
      "    Cash: 1.0000 Total Val: 1.0000 PnL: 0.0000 Returns: 0.0000\n",
      "BALANCE\n",
      "    BTC - {'free': 1.0, 'used': 0.0, 'total': 1.0}\n",
      "    ETH - {'free': 0.0, 'used': 0.0, 'total': 0.0}\n",
      "POSITIONS\n",
      "METRICS\n",
      "    SMA: 5.00\n",
      "    RSI: 10.00\n"
     ]
    },
    {
     "name": "stdout",
     "output_type": "stream",
     "text": [
      "Downloaded rows: 1\n",
      "Downloading: ETH/BTC\n",
      "Downloaded rows: 1\n",
      "Downloading: LTC/BTC\n",
      "Downloaded rows: 1\n",
      "Downloading: BTC/USDT\n",
      "Downloaded rows: 1\n",
      "No data after prior poll: 2018-02-01 05:54:00\n",
      "Downloading: ETH/BTC\n",
      "Downloaded rows: 1\n",
      "Downloading: LTC/BTC\n",
      "Downloaded rows: 1\n",
      "Downloading: BTC/USDT\n",
      "Downloaded rows: 1\n",
      "No data after prior poll: 2018-02-01 05:54:00\n",
      "Downloading: ETH/BTC\n",
      "Downloaded rows: 2\n",
      "Downloading: LTC/BTC\n"
     ]
    },
    {
     "name": "stderr",
     "output_type": "stream",
     "text": [
      "---------------------------------------\n",
      "Epoch 2 - Timestep: 2018-02-01T05:55:00\n"
     ]
    },
    {
     "name": "stdout",
     "output_type": "stream",
     "text": [
      "Downloaded rows: 1\n",
      "Downloading: BTC/USDT\n",
      "Downloaded rows: 1\n"
     ]
    },
    {
     "name": "stderr",
     "output_type": "stream",
     "text": [
      "---------------------------------------\n",
      "OHLCV\n",
      "    O: 0.1132 | C: 0.1131 | V: 4.1 | T: 2018-02-01T05:55:00\n",
      "ORDERS\n",
      "PERFORMANCE\n",
      "    Cash: 1.0000 Total Val: 1.0000 PnL: 0.0000 Returns: 0.0000\n",
      "BALANCE\n",
      "    BTC - {'free': 1.0, 'used': 0.0, 'total': 1.0}\n",
      "    ETH - {'free': 0.0, 'used': 0.0, 'total': 0.0}\n",
      "POSITIONS\n",
      "METRICS\n",
      "    SMA: 5.00\n",
      "    RSI: 10.00\n"
     ]
    },
    {
     "name": "stdout",
     "output_type": "stream",
     "text": [
      "Downloading: ETH/BTC\n",
      "Downloaded rows: 1\n",
      "Downloading: LTC/BTC\n",
      "Downloaded rows: 1\n",
      "Downloading: BTC/USDT\n",
      "Downloaded rows: 1\n",
      "No data after prior poll: 2018-02-01 05:55:00\n",
      "Downloading: ETH/BTC\n",
      "Downloaded rows: 1\n",
      "Downloading: LTC/BTC\n",
      "Downloaded rows: 1\n",
      "Downloading: BTC/USDT\n",
      "Downloaded rows: 1\n",
      "No data after prior poll: 2018-02-01 05:55:00\n",
      "Downloading: ETH/BTC\n",
      "Downloaded rows: 1\n",
      "Downloading: LTC/BTC\n",
      "Downloaded rows: 1\n",
      "Downloading: BTC/USDT\n",
      "Downloaded rows: 1\n",
      "No data after prior poll: 2018-02-01 05:55:00\n",
      "Downloading: ETH/BTC\n",
      "Downloaded rows: 2\n",
      "Downloading: LTC/BTC\n"
     ]
    },
    {
     "name": "stderr",
     "output_type": "stream",
     "text": [
      "---------------------------------------\n",
      "Epoch 3 - Timestep: 2018-02-01T05:56:00\n",
      "---------------------------------------\n",
      "OHLCV\n",
      "    O: 0.1131 | C: 0.1130 | V: 20.5 | T: 2018-02-01T05:56:00\n",
      "ORDERS\n",
      "    1: ETH/BTC | LIMIT_BUY | Price: 0.1130 | Quantity: 0.0500\n",
      "PERFORMANCE\n",
      "    Cash: 1.0000 Total Val: 1.0000 PnL: 0.0000 Returns: 0.0000\n",
      "BALANCE\n",
      "    BTC - {'free': 1.0, 'used': 0.0, 'total': 1.0}\n",
      "    ETH - {'free': 0.0, 'used': 0.0, 'total': 0.0}\n",
      "POSITIONS\n",
      "METRICS\n",
      "    SMA: 5.00\n",
      "    RSI: 10.00\n"
     ]
    },
    {
     "name": "stdout",
     "output_type": "stream",
     "text": [
      "Downloaded rows: 1\n",
      "Downloading: BTC/USDT\n",
      "Downloaded rows: 2\n",
      "TIME 2018-02-01 05:56:04.340027\n",
      "Inspecting trade times...\n",
      "trade time 2018-02-01 05:56:04.340293\n",
      "last_update_time 2018-02-01 05:55:48.811758\n",
      "Downloading: ETH/BTC\n",
      "Downloaded rows: 1\n",
      "Downloading: LTC/BTC\n",
      "Downloaded rows: 1\n",
      "Downloading: BTC/USDT\n",
      "Downloaded rows: 1\n",
      "No data after prior poll: 2018-02-01 05:56:00\n",
      "Downloading: ETH/BTC\n",
      "Downloaded rows: 1\n",
      "Downloading: LTC/BTC\n",
      "Downloaded rows: 1\n",
      "Downloading: BTC/USDT\n",
      "Downloaded rows: 1\n",
      "No data after prior poll: 2018-02-01 05:56:00\n",
      "Downloading: ETH/BTC\n",
      "Downloaded rows: 1\n",
      "Downloading: LTC/BTC\n",
      "Downloaded rows: 1\n",
      "Downloading: BTC/USDT\n",
      "Downloaded rows: 1\n",
      "No data after prior poll: 2018-02-01 05:56:00\n",
      "Downloading: ETH/BTC\n",
      "Downloaded rows: 2\n",
      "Downloading: LTC/BTC\n",
      "Downloaded rows: 2\n",
      "Downloading: BTC/USDT\n"
     ]
    },
    {
     "name": "stderr",
     "output_type": "stream",
     "text": [
      "---------------------------------------\n",
      "Epoch 4 - Timestep: 2018-02-01T05:57:00\n",
      "---------------------------------------\n",
      "OHLCV\n",
      "    O: 0.1131 | C: 0.1130 | V: 0.6 | T: 2018-02-01T05:57:00\n",
      "ORDERS\n",
      "PERFORMANCE\n",
      "    Cash: 0.9943 Total Val: 1.0000 PnL: 0.0000 Returns: 0.0000\n",
      "BALANCE\n",
      "    BTC - {'free': 0.9943497, 'used': 0.0, 'total': 0.9943497}\n",
      "    ETH - {'free': 0.05, 'used': 0.0, 'total': 0.05}\n",
      "POSITIONS\n",
      "     {'asset': 'ETH/BTC', 'quantity': 0.05, 'cost_price': 0.113006, 'latest_price': 0.113006, 'fee': 0.0}\n",
      "METRICS\n",
      "    SMA: 5.00\n",
      "    RSI: 10.00\n"
     ]
    },
    {
     "name": "stdout",
     "output_type": "stream",
     "text": [
      "Downloaded rows: 2\n",
      "Downloading: ETH/BTC\n",
      "Downloaded rows: 1\n",
      "Downloading: LTC/BTC\n",
      "Downloaded rows: 1\n",
      "Downloading: BTC/USDT\n",
      "Downloaded rows: 1\n",
      "No data after prior poll: 2018-02-01 05:57:00\n",
      "Downloading: ETH/BTC\n",
      "Downloaded rows: 1\n",
      "Downloading: LTC/BTC\n",
      "Downloaded rows: 1\n",
      "Downloading: BTC/USDT\n",
      "Downloaded rows: 1\n",
      "No data after prior poll: 2018-02-01 05:57:00\n",
      "Downloading: ETH/BTC\n",
      "Downloaded rows: 1\n",
      "Downloading: LTC/BTC\n",
      "Downloaded rows: 1\n",
      "Downloading: BTC/USDT\n",
      "Downloaded rows: 1\n",
      "No data after prior poll: 2018-02-01 05:57:00\n",
      "Downloading: ETH/BTC\n",
      "Downloaded rows: 2\n",
      "Downloading: LTC/BTC\n"
     ]
    },
    {
     "name": "stderr",
     "output_type": "stream",
     "text": [
      "---------------------------------------\n",
      "Epoch 5 - Timestep: 2018-02-01T05:58:00\n",
      "---------------------------------------\n",
      "OHLCV\n",
      "    O: 0.1132 | C: 0.1132 | V: 9.7 | T: 2018-02-01T05:58:00\n",
      "ORDERS\n",
      "    1: ETH/BTC | LIMIT_BUY | Price: 0.1132 | Quantity: 0.0500\n",
      "PERFORMANCE\n",
      "    Cash: 0.9943 Total Val: 1.0000 PnL: 0.0000 Returns: 0.0000\n",
      "BALANCE\n",
      "    BTC - {'free': 0.9943497, 'used': 0.0, 'total': 0.9943497}\n",
      "    ETH - {'free': 0.05, 'used': 0.0, 'total': 0.05}\n",
      "POSITIONS\n",
      "     {'asset': 'ETH/BTC', 'quantity': 0.05, 'cost_price': 0.113006, 'latest_price': 0.11304500000000001, 'fee': 0.0}\n",
      "METRICS\n",
      "    SMA: 5.00\n",
      "    RSI: 10.00\n"
     ]
    },
    {
     "name": "stdout",
     "output_type": "stream",
     "text": [
      "Downloaded rows: 2\n",
      "Downloading: BTC/USDT\n",
      "Downloaded rows: 2\n",
      "TIME 2018-02-01 05:58:10.511520\n",
      "Inspecting trade times...\n",
      "trade time 2018-02-01 05:58:10.511828\n",
      "last_update_time 2018-02-01 05:57:54.948457\n",
      "Downloading: ETH/BTC\n",
      "Downloaded rows: 1\n",
      "Downloading: LTC/BTC\n",
      "Downloaded rows: 1\n",
      "Downloading: BTC/USDT\n",
      "Downloaded rows: 1\n",
      "No data after prior poll: 2018-02-01 05:58:00\n",
      "Downloading: ETH/BTC\n",
      "Downloaded rows: 1\n",
      "Downloading: LTC/BTC\n",
      "Downloaded rows: 1\n",
      "Downloading: BTC/USDT\n",
      "Downloaded rows: 1\n",
      "No data after prior poll: 2018-02-01 05:58:00\n",
      "Downloading: ETH/BTC\n",
      "Downloaded rows: 1\n",
      "Downloading: LTC/BTC\n",
      "Downloaded rows: 1\n",
      "Downloading: BTC/USDT\n",
      "Downloaded rows: 1\n",
      "No data after prior poll: 2018-02-01 05:58:00\n",
      "Downloading: ETH/BTC\n",
      "Downloaded rows: 2\n",
      "Downloading: LTC/BTC\n"
     ]
    },
    {
     "name": "stderr",
     "output_type": "stream",
     "text": [
      "---------------------------------------\n",
      "Epoch 6 - Timestep: 2018-02-01T05:59:00\n",
      "---------------------------------------\n",
      "OHLCV\n",
      "    O: 0.1132 | C: 0.1131 | V: 14.0 | T: 2018-02-01T05:59:00\n",
      "ORDERS\n",
      "    1: ETH/BTC | LIMIT_BUY | Price: 0.1131 | Quantity: 0.0500\n",
      "PERFORMANCE\n",
      "    Cash: 0.9887 Total Val: 1.0000 PnL: 0.0000 Returns: 0.0000\n",
      "BALANCE\n",
      "    BTC - {'free': 0.98868999999999996, 'used': 0.0, 'total': 0.98868999999999996}\n",
      "    ETH - {'free': 0.1, 'used': 0.0, 'total': 0.1}\n",
      "POSITIONS\n",
      "     {'asset': 'ETH/BTC', 'quantity': 0.1, 'cost_price': 0.11310000000000001, 'latest_price': 0.113194, 'fee': 0.0}\n",
      "METRICS\n",
      "    SMA: 5.00\n",
      "    RSI: 10.00\n"
     ]
    },
    {
     "name": "stdout",
     "output_type": "stream",
     "text": [
      "Downloaded rows: 2\n",
      "Downloading: BTC/USDT\n",
      "Downloaded rows: 2\n",
      "TIME 2018-02-01 05:59:12.404139\n",
      "Inspecting trade times...\n",
      "trade time 2018-02-01 05:59:12.404416\n",
      "last_update_time 2018-02-01 05:58:56.925560\n",
      "Downloading: ETH/BTC\n",
      "Downloaded rows: 1\n",
      "Downloading: LTC/BTC\n",
      "Downloaded rows: 1\n",
      "Downloading: BTC/USDT\n",
      "Downloaded rows: 1\n",
      "No data after prior poll: 2018-02-01 05:59:00\n",
      "Downloading: ETH/BTC\n",
      "Downloaded rows: 1\n",
      "Downloading: LTC/BTC\n",
      "Downloaded rows: 1\n",
      "Downloading: BTC/USDT\n",
      "Downloaded rows: 1\n",
      "No data after prior poll: 2018-02-01 05:59:00\n",
      "Downloading: ETH/BTC\n",
      "Downloaded rows: 1\n",
      "Downloading: LTC/BTC\n",
      "Downloaded rows: 1\n",
      "Downloading: BTC/USDT\n",
      "Downloaded rows: 1\n",
      "No data after prior poll: 2018-02-01 05:59:00\n",
      "Downloading: ETH/BTC\n",
      "Downloaded rows: 2\n",
      "Downloading: LTC/BTC\n"
     ]
    },
    {
     "name": "stderr",
     "output_type": "stream",
     "text": [
      "---------------------------------------\n",
      "Epoch 7 - Timestep: 2018-02-01T06:00:00\n",
      "---------------------------------------\n",
      "OHLCV\n",
      "    O: 0.1132 | C: 0.1132 | V: 5.8 | T: 2018-02-01T06:00:00\n",
      "ORDERS\n",
      "    1: ETH/BTC | MARKET_SELL | Price: 0.0000 | Quantity: 0.0500\n",
      "PERFORMANCE\n",
      "    Cash: 0.9830 Total Val: 1.0000 PnL: -0.0000 Returns: -0.0000\n",
      "BALANCE\n",
      "    BTC - {'free': 0.98303514999999997, 'used': 0.0, 'total': 0.98303514999999997}\n",
      "    ETH - {'free': 0.15000000000000002, 'used': 0.0, 'total': 0.15000000000000002}\n",
      "POSITIONS\n",
      "     {'asset': 'ETH/BTC', 'quantity': 0.15000000000000002, 'cost_price': 0.11309899999999998, 'latest_price': 0.113097, 'fee': 0.0}\n",
      "METRICS\n",
      "    SMA: 5.00\n",
      "    RSI: 10.00\n"
     ]
    },
    {
     "name": "stdout",
     "output_type": "stream",
     "text": [
      "Downloaded rows: 2\n",
      "Downloading: BTC/USDT\n",
      "Downloaded rows: 2\n",
      "TIME 2018-02-01 06:00:14.599826\n",
      "Inspecting trade times...\n",
      "trade time 2018-02-01 06:00:14.600379\n",
      "last_update_time 2018-02-01 05:59:58.960969\n",
      "Downloading: ETH/BTC\n",
      "Downloaded rows: 1\n",
      "Downloading: LTC/BTC\n",
      "Downloaded rows: 1\n",
      "Downloading: BTC/USDT\n",
      "Downloaded rows: 1\n",
      "No data after prior poll: 2018-02-01 06:00:00\n",
      "Downloading: ETH/BTC\n",
      "Downloaded rows: 1\n",
      "Downloading: LTC/BTC\n",
      "Downloaded rows: 1\n",
      "Downloading: BTC/USDT\n",
      "Downloaded rows: 1\n",
      "No data after prior poll: 2018-02-01 06:00:00\n",
      "Downloading: ETH/BTC\n",
      "Downloaded rows: 1\n",
      "Downloading: LTC/BTC\n",
      "Downloaded rows: 1\n",
      "Downloading: BTC/USDT\n",
      "Downloaded rows: 1\n",
      "No data after prior poll: 2018-02-01 06:00:00\n",
      "Downloading: ETH/BTC\n",
      "Downloaded rows: 2\n",
      "Downloading: LTC/BTC\n"
     ]
    },
    {
     "name": "stderr",
     "output_type": "stream",
     "text": [
      "---------------------------------------\n",
      "Epoch 8 - Timestep: 2018-02-01T06:01:00\n",
      "---------------------------------------\n",
      "OHLCV\n",
      "    O: 0.1132 | C: 0.1132 | V: 25.2 | T: 2018-02-01T06:01:00\n",
      "ORDERS\n",
      "    1: ETH/BTC | LIMIT_BUY | Price: 0.1132 | Quantity: 0.0500\n",
      "PERFORMANCE\n",
      "    Cash: 0.9887 Total Val: 1.0000 PnL: 0.0000 Returns: 0.0000\n",
      "BALANCE\n",
      "    BTC - {'free': 0.98869180000000001, 'used': 0.0, 'total': 0.98869180000000001}\n",
      "    ETH - {'free': 0.10000000000000002, 'used': 0.0, 'total': 0.10000000000000002}\n",
      "POSITIONS\n",
      "     {'asset': 'ETH/BTC', 'quantity': 0.10000000000000002, 'cost_price': 0.11309899999999998, 'latest_price': 0.11323800000000001, 'fee': 0.0}\n",
      "METRICS\n",
      "    SMA: 5.00\n",
      "    RSI: 10.00\n"
     ]
    },
    {
     "name": "stdout",
     "output_type": "stream",
     "text": [
      "Downloaded rows: 2\n",
      "Downloading: BTC/USDT\n",
      "Downloaded rows: 2\n",
      "TIME 2018-02-01 06:01:16.551018\n",
      "Inspecting trade times...\n",
      "trade time 2018-02-01 06:01:16.551418\n",
      "last_update_time 2018-02-01 06:01:01.073896\n"
     ]
    },
    {
     "ename": "KeyboardInterrupt",
     "evalue": "",
     "output_type": "error",
     "traceback": [
      "\u001b[0;31m---------------------------------------------------------------------------\u001b[0m",
      "\u001b[0;31mKeyboardInterrupt\u001b[0m                         Traceback (most recent call last)",
      "\u001b[0;32m<ipython-input-4-22be3486fc1e>\u001b[0m in \u001b[0;36m<module>\u001b[0;34m()\u001b[0m\n\u001b[1;32m      1\u001b[0m \u001b[0mexperiment_name\u001b[0m \u001b[0;34m=\u001b[0m \u001b[0;34m'default_simulate'\u001b[0m\u001b[0;34m\u001b[0m\u001b[0m\n\u001b[0;32m----> 2\u001b[0;31m \u001b[0mrunner\u001b[0m\u001b[0;34m.\u001b[0m\u001b[0msimulate\u001b[0m\u001b[0;34m(\u001b[0m\u001b[0mexperiment_name\u001b[0m\u001b[0;34m,\u001b[0m \u001b[0mexchange\u001b[0m\u001b[0;34m,\u001b[0m \u001b[0mbalance\u001b[0m\u001b[0;34m,\u001b[0m \u001b[0mportfolio\u001b[0m\u001b[0;34m,\u001b[0m \u001b[0mfeed\u001b[0m\u001b[0;34m,\u001b[0m \u001b[0mstrategy\u001b[0m\u001b[0;34m)\u001b[0m\u001b[0;34m\u001b[0m\u001b[0m\n\u001b[0m",
      "\u001b[0;32m~/code/public/punisher/punisher/trading/runner.py\u001b[0m in \u001b[0;36msimulate\u001b[0;34m(name, exchange, balance, portfolio, feed, strategy)\u001b[0m\n\u001b[1;32m    206\u001b[0m \u001b[0;34m\u001b[0m\u001b[0m\n\u001b[1;32m    207\u001b[0m         \u001b[0mrecord\u001b[0m\u001b[0;34m.\u001b[0m\u001b[0msave\u001b[0m\u001b[0;34m(\u001b[0m\u001b[0;34m)\u001b[0m\u001b[0;34m\u001b[0m\u001b[0m\n\u001b[0;32m--> 208\u001b[0;31m         \u001b[0mtime\u001b[0m\u001b[0;34m.\u001b[0m\u001b[0msleep\u001b[0m\u001b[0;34m(\u001b[0m\u001b[0mcfg\u001b[0m\u001b[0;34m.\u001b[0m\u001b[0mSLEEP_TIME\u001b[0m\u001b[0;34m)\u001b[0m\u001b[0;34m\u001b[0m\u001b[0m\n\u001b[0m\u001b[1;32m    209\u001b[0m         \u001b[0mrow\u001b[0m \u001b[0;34m=\u001b[0m \u001b[0mfeed\u001b[0m\u001b[0;34m.\u001b[0m\u001b[0mnext\u001b[0m\u001b[0;34m(\u001b[0m\u001b[0;34m)\u001b[0m\u001b[0;34m\u001b[0m\u001b[0m\n\u001b[1;32m    210\u001b[0m \u001b[0;34m\u001b[0m\u001b[0m\n",
      "\u001b[0;31mKeyboardInterrupt\u001b[0m: "
     ]
    }
   ],
   "source": [
    "experiment_name = 'default_simulate'\n",
    "runner.simulate(experiment_name, exchange, balance, portfolio, feed, strategy)"
   ]
  },
  {
   "cell_type": "markdown",
   "metadata": {},
   "source": [
    "## Live Trade"
   ]
  },
  {
   "cell_type": "code",
   "execution_count": 5,
   "metadata": {},
   "outputs": [
    {
     "name": "stdout",
     "output_type": "stream",
     "text": [
      "BTC cash 0.03353167\n"
     ]
    }
   ],
   "source": [
    "exchange = load_exchange(ex_cfg.BINANCE)\n",
    "cash = exchange.fetch_balance().get(coins.BTC)[BalanceType.FREE]\n",
    "cash_currency = coins.BTC\n",
    "print(coins.BTC, \"cash\", cash)"
   ]
  },
  {
   "cell_type": "code",
   "execution_count": 7,
   "metadata": {},
   "outputs": [
    {
     "name": "stdout",
     "output_type": "stream",
     "text": [
      "START 2018-02-01 06:03:13.409715\n",
      "END 2018-02-01 06:03:13.409728\n",
      "Downloading: ETH/BTC\n",
      "Downloaded rows: 0\n",
      "Downloading: LTC/BTC\n",
      "Downloaded rows: 0\n",
      "Downloading: BTC/USDT\n",
      "Downloaded rows: 0\n"
     ]
    }
   ],
   "source": [
    "balance = Balance(\n",
    "    cash_currency=coins.BTC,\n",
    "    starting_cash=cash\n",
    ")\n",
    "perf_tracker = PerformanceTracker(\n",
    "    starting_cash=cash, \n",
    "    timeframe=Timeframe.ONE_MIN\n",
    ")\n",
    "portfolio = Portfolio(\n",
    "    cash_currency=cash_currency,\n",
    "    starting_balance=deepcopy(balance),\n",
    "    perf_tracker=perf_tracker, # option to override, otherwise default\n",
    "    positions=None # option to override with existing positions\n",
    ")\n",
    "assets = [Asset(coins.ETH, coins.BTC), Asset(coins.LTC, coins.BTC)]\n",
    "feed = OHLCVExchangeFeed(\n",
    "    exchanges=[exchange],\n",
    "    assets=assets,\n",
    "    timeframe=Timeframe.ONE_MIN,\n",
    "    start=datetime.datetime.utcnow(),\n",
    "    end=None\n",
    ")\n",
    "experiment_name = 'default_live'"
   ]
  },
  {
   "cell_type": "code",
   "execution_count": null,
   "metadata": {
    "scrolled": false
   },
   "outputs": [],
   "source": [
    "runner.live(experiment_name, exchange, balance, portfolio, feed, strategy)"
   ]
  },
  {
   "cell_type": "code",
   "execution_count": null,
   "metadata": {},
   "outputs": [],
   "source": []
  }
 ],
 "metadata": {
  "kernelspec": {
   "display_name": "Python 3",
   "language": "python",
   "name": "python3"
  },
  "language_info": {
   "codemirror_mode": {
    "name": "ipython",
    "version": 3
   },
   "file_extension": ".py",
   "mimetype": "text/x-python",
   "name": "python",
   "nbconvert_exporter": "python",
   "pygments_lexer": "ipython3",
   "version": "3.6.4"
  },
  "latex_envs": {
   "LaTeX_envs_menu_present": true,
   "autocomplete": true,
   "bibliofile": "biblio.bib",
   "cite_by": "apalike",
   "current_citInitial": 1,
   "eqLabelWithNumbers": true,
   "eqNumInitial": 1,
   "hotkeys": {
    "equation": "Ctrl-E",
    "itemize": "Ctrl-I"
   },
   "labels_anchors": false,
   "latex_user_defs": false,
   "report_style_numbering": false,
   "user_envs_cfg": false
  },
  "toc": {
   "nav_menu": {
    "height": "91.01562px",
    "width": "251.01562px"
   },
   "number_sections": true,
   "sideBar": true,
   "skip_h1_title": false,
   "toc_cell": false,
   "toc_position": {},
   "toc_section_display": "block",
   "toc_window_display": false
  }
 },
 "nbformat": 4,
 "nbformat_minor": 2
}
