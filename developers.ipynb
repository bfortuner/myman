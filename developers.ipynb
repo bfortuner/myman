{
 "cells": [
  {
   "cell_type": "markdown",
   "metadata": {},
   "source": [
    "### Config"
   ]
  },
  {
   "cell_type": "code",
   "execution_count": 24,
   "metadata": {},
   "outputs": [
    {
     "name": "stdout",
     "output_type": "stream",
     "text": [
      "The autoreload extension is already loaded. To reload it, use:\n",
      "  %reload_ext autoreload\n"
     ]
    }
   ],
   "source": [
    "%matplotlib inline\n",
    "%load_ext autoreload\n",
    "%autoreload 2\n",
    "from punisher.common import *"
   ]
  },
  {
   "cell_type": "markdown",
   "metadata": {
    "heading_collapsed": true
   },
   "source": [
    "### Asset"
   ]
  },
  {
   "cell_type": "code",
   "execution_count": null,
   "metadata": {
    "hidden": true
   },
   "outputs": [],
   "source": [
    "a = Asset(coins.ETH, coins.BTC)\n",
    "print(a.to_dict())\n",
    "a = Asset.from_symbol('ETH/BTC')\n",
    "print(a.to_dict())\n",
    "a = Asset.from_symbol('ETHBTC')\n",
    "print(a.to_dict())"
   ]
  },
  {
   "cell_type": "markdown",
   "metadata": {
    "heading_collapsed": true
   },
   "source": [
    "### Balance"
   ]
  },
  {
   "cell_type": "code",
   "execution_count": null,
   "metadata": {
    "hidden": true
   },
   "outputs": [],
   "source": [
    "b = Balance()\n",
    "print(\"Currencies\",  b.currencies)\n",
    "print(\"Entries\", b)\n",
    "b.add_currency(coins.ETH)\n",
    "b.update(coins.ETH, delta_free=1.0, delta_used=0.0)\n",
    "print(b.get(coins.ETH))\n",
    "b.get(coins.ETH)[BalanceType.FREE]\n",
    "Balance.from_dict(b.to_dict())"
   ]
  },
  {
   "cell_type": "markdown",
   "metadata": {
    "heading_collapsed": true
   },
   "source": [
    "### GDAX Client"
   ]
  },
  {
   "cell_type": "code",
   "execution_count": 25,
   "metadata": {
    "hidden": true
   },
   "outputs": [],
   "source": [
    "from punisher.clients.gdax import gdax"
   ]
  },
  {
   "cell_type": "code",
   "execution_count": 22,
   "metadata": {
    "hidden": true
   },
   "outputs": [
    {
     "name": "stdout",
     "output_type": "stream",
     "text": [
      "[[{'id': 'BCH-BTC', 'base_currency': 'BCH', 'quote_currency': 'BTC', 'base_min_size': Decimal('0.01'), 'base_max_size': Decimal('200'), 'quote_increment': Decimal('0.00001'), 'display_name': 'BCH/BTC', 'status': 'online', 'margin_enabled': False, 'status_message': None, 'min_market_funds': '0.001', 'max_market_funds': '30', 'post_only': False, 'limit_only': False, 'cancel_only': False}, {'id': 'BCH-USD', 'base_currency': 'BCH', 'quote_currency': 'USD', 'base_min_size': Decimal('0.01'), 'base_max_size': Decimal('350'), 'quote_increment': Decimal('0.01'), 'display_name': 'BCH/USD', 'status': 'online', 'margin_enabled': False, 'status_message': None, 'min_market_funds': '10', 'max_market_funds': '1000000', 'post_only': False, 'limit_only': False, 'cancel_only': False}, {'id': 'BTC-EUR', 'base_currency': 'BTC', 'quote_currency': 'EUR', 'base_min_size': Decimal('0.001'), 'base_max_size': Decimal('50'), 'quote_increment': Decimal('0.01'), 'display_name': 'BTC/EUR', 'status': 'online', 'margin_enabled': False, 'status_message': None, 'min_market_funds': '10', 'max_market_funds': '600000', 'post_only': False, 'limit_only': False, 'cancel_only': False}, {'id': 'BTC-GBP', 'base_currency': 'BTC', 'quote_currency': 'GBP', 'base_min_size': Decimal('0.001'), 'base_max_size': Decimal('20'), 'quote_increment': Decimal('0.01'), 'display_name': 'BTC/GBP', 'status': 'online', 'margin_enabled': False, 'status_message': None, 'min_market_funds': '10', 'max_market_funds': '200000', 'post_only': False, 'limit_only': False, 'cancel_only': False}, {'id': 'BTC-USD', 'base_currency': 'BTC', 'quote_currency': 'USD', 'base_min_size': Decimal('0.001'), 'base_max_size': Decimal('70'), 'quote_increment': Decimal('0.01'), 'display_name': 'BTC/USD', 'status': 'online', 'margin_enabled': False, 'status_message': None, 'min_market_funds': '10', 'max_market_funds': '1000000', 'post_only': False, 'limit_only': False, 'cancel_only': False}, {'id': 'ETH-BTC', 'base_currency': 'ETH', 'quote_currency': 'BTC', 'base_min_size': Decimal('0.01'), 'base_max_size': Decimal('600'), 'quote_increment': Decimal('0.00001'), 'display_name': 'ETH/BTC', 'status': 'online', 'margin_enabled': False, 'status_message': None, 'min_market_funds': '0.001', 'max_market_funds': '50', 'post_only': False, 'limit_only': False, 'cancel_only': False}, {'id': 'ETH-EUR', 'base_currency': 'ETH', 'quote_currency': 'EUR', 'base_min_size': Decimal('0.01'), 'base_max_size': Decimal('400'), 'quote_increment': Decimal('0.01'), 'display_name': 'ETH/EUR', 'status': 'online', 'margin_enabled': False, 'status_message': None, 'min_market_funds': '10', 'max_market_funds': '400000', 'post_only': False, 'limit_only': False, 'cancel_only': False}, {'id': 'ETH-USD', 'base_currency': 'ETH', 'quote_currency': 'USD', 'base_min_size': Decimal('0.01'), 'base_max_size': Decimal('700'), 'quote_increment': Decimal('0.01'), 'display_name': 'ETH/USD', 'status': 'online', 'margin_enabled': False, 'status_message': None, 'min_market_funds': '10', 'max_market_funds': '1000000', 'post_only': False, 'limit_only': False, 'cancel_only': False}, {'id': 'LTC-BTC', 'base_currency': 'LTC', 'quote_currency': 'BTC', 'base_min_size': Decimal('0.1'), 'base_max_size': Decimal('2000'), 'quote_increment': Decimal('0.00001'), 'display_name': 'LTC/BTC', 'status': 'online', 'margin_enabled': False, 'status_message': None, 'min_market_funds': '0.001', 'max_market_funds': '30', 'post_only': False, 'limit_only': False, 'cancel_only': False}, {'id': 'LTC-EUR', 'base_currency': 'LTC', 'quote_currency': 'EUR', 'base_min_size': Decimal('0.1'), 'base_max_size': Decimal('1000'), 'quote_increment': Decimal('0.01'), 'display_name': 'LTC/EUR', 'status': 'online', 'margin_enabled': False, 'status_message': None, 'min_market_funds': '10', 'max_market_funds': '200000', 'post_only': False, 'limit_only': False, 'cancel_only': False}, {'id': 'LTC-USD', 'base_currency': 'LTC', 'quote_currency': 'USD', 'base_min_size': Decimal('0.1'), 'base_max_size': Decimal('4000'), 'quote_increment': Decimal('0.01'), 'display_name': 'LTC/USD', 'status': 'online', 'margin_enabled': False, 'status_message': None, 'min_market_funds': '10', 'max_market_funds': '1000000', 'post_only': False, 'limit_only': False, 'cancel_only': False}, {'id': 'BCH-EUR', 'base_currency': 'BCH', 'quote_currency': 'EUR', 'base_min_size': Decimal('0.01'), 'base_max_size': Decimal('120'), 'quote_increment': Decimal('0.01'), 'display_name': 'BCH/EUR', 'status': 'online', 'margin_enabled': False, 'status_message': None, 'min_market_funds': '10', 'max_market_funds': '200000', 'post_only': False, 'limit_only': False, 'cancel_only': False}], {'trade_id': 37926144, 'price': Decimal('9838.99000000'), 'size': Decimal('0.27900000'), 'bid': Decimal('9838.99'), 'ask': Decimal('9839'), 'volume': Decimal('29461.28446524'), 'time': '2018-02-23T05:02:58.478000Z'}, {'iso': '2018-02-23T05:02:59.032Z', 'epoch': 1519362179.032}]\n"
     ]
    }
   ],
   "source": [
    "async def main():\n",
    "    trader = gdax.trader.Trader(product_id='BTC-USD')\n",
    "    res = await asyncio.gather(\n",
    "        trader.get_products(),\n",
    "        trader.get_product_ticker(),\n",
    "        trader.get_time(),\n",
    "    )\n",
    "    print(res)\n",
    "\n",
    "loop = asyncio.get_event_loop()\n",
    "loop.run_until_complete(main())"
   ]
  },
  {
   "cell_type": "code",
   "execution_count": 23,
   "metadata": {
    "hidden": true
   },
   "outputs": [
    {
     "name": "stdout",
     "output_type": "stream",
     "text": [
      "[{'id': '842116a5-473a-46d8-b6b1-c1de6cddc815', 'currency': 'USD', 'balance': '4686.8754221916500000', 'available': '4686.87542219165', 'hold': '0.0000000000000000', 'profile_id': '5226417b-1995-4df8-86ea-ea7ac9c33ec6'}, {'id': 'ab22380c-b2df-4ff0-8902-f74b9336687c', 'currency': 'LTC', 'balance': '25.0000000000000000', 'available': '25', 'hold': '0.0000000000000000', 'profile_id': '5226417b-1995-4df8-86ea-ea7ac9c33ec6'}, {'id': '1a758fd9-b6fa-47ae-a004-be8e9602ca50', 'currency': 'BTC', 'balance': '1.6123827900000000', 'available': '1.61238279', 'hold': '0.0000000000000000', 'profile_id': '5226417b-1995-4df8-86ea-ea7ac9c33ec6'}, {'id': '2d41385a-80e4-476d-8ea8-93c3c0833a09', 'currency': 'ETH', 'balance': '0.0000000000000000', 'available': '0', 'hold': '0.0000000000000000', 'profile_id': '5226417b-1995-4df8-86ea-ea7ac9c33ec6'}, {'id': '708ce841-b717-46a8-9ef6-07ed4968da93', 'currency': 'BCH', 'balance': '0.0000000000000000', 'available': '0', 'hold': '0.0000000000000000', 'profile_id': '5226417b-1995-4df8-86ea-ea7ac9c33ec6'}]\n"
     ]
    }
   ],
   "source": [
    "async def main():\n",
    "    trader = gdax.trader.Trader(\n",
    "        product_id='BTC-USD',\n",
    "        api_key=cfg.GDAX_API_KEY,\n",
    "        api_secret=cfg.GDAX_API_SECRET_KEY,\n",
    "        passphrase=cfg.GDAX_PASSPHRASE)\n",
    "    res = await trader.get_account()\n",
    "    print(res)\n",
    "\n",
    "    #res = await trader.buy(type='limit', size='0.01', price='2500.12')\n",
    "    #print(res)\n",
    "\n",
    "loop = asyncio.get_event_loop()\n",
    "loop.run_until_complete(main())"
   ]
  },
  {
   "cell_type": "code",
   "execution_count": null,
   "metadata": {
    "hidden": true
   },
   "outputs": [],
   "source": [
    "async def run_orderbook():\n",
    "    async with gdax.orderbook.OrderBook(['ETH-USD', 'BTC-USD']) as orderbook:\n",
    "        while True:\n",
    "            message = await orderbook.handle_message()\n",
    "            if message is None:\n",
    "                continue\n",
    "            print('ETH-USD ask: %s bid: %s' %\n",
    "                  (orderbook.get_ask('ETH-USD'),\n",
    "                   orderbook.get_bid('ETH-USD')))\n",
    "            print('BTC-USD ask: %s bid: %s' %\n",
    "                  (orderbook.get_ask('BTC-USD'),\n",
    "                   orderbook.get_bid('BTC-USD')))"
   ]
  },
  {
   "cell_type": "code",
   "execution_count": null,
   "metadata": {
    "hidden": true
   },
   "outputs": [],
   "source": [
    "loop = asyncio.get_event_loop()\n",
    "loop.run_until_complete(run_orderbook())"
   ]
  },
  {
   "cell_type": "code",
   "execution_count": null,
   "metadata": {
    "hidden": true
   },
   "outputs": [],
   "source": []
  },
  {
   "cell_type": "markdown",
   "metadata": {
    "heading_collapsed": true
   },
   "source": [
    "### Trade Feed"
   ]
  },
  {
   "cell_type": "code",
   "execution_count": 13,
   "metadata": {
    "hidden": true
   },
   "outputs": [],
   "source": [
    "## Binance ## ~6 months of trade data\n",
    "\n",
    "# BTC/USDT, ETH/USDT\n",
    "# start = datetime.datetime(year=2017, month=9, day=1, hour=1)\n",
    "\n",
    "# ETH, LTC\n",
    "# datetime.datetime(year=2017, month=7, day=15, hour=1)\n",
    "\n",
    "# NEO\n",
    "# start = datetime.datetime(year=2017, month=8, day=1, hour=1)\n",
    "\n",
    "# EOS, DASH, BCH\n",
    "# datetime.datetime(year=2017, month=11, day=1, hour=1)\n",
    "\n",
    "# XRP, XMR, ZEC, ADA\n",
    "# datetime.datetime(year=2017, month=12, day=1, hour=1)\n",
    "\n",
    "## GDAX\n",
    "\n",
    "# Fetch order broken for GDAX\n",
    "# https://github.com/ccxt/ccxt/blob/master/python/ccxt/gdax.py#L309\n",
    "exchange = load_exchange('poloniex')\n",
    "a = Asset(coins.BTC, coins.USD)\n",
    "b = Asset(coins.XMR, coins.BTC)\n",
    "start = datetime.datetime(year=2017, month=1, day=1, hour=0)\n",
    "end = datetime.datetime(year=2018, month=1, day=2, hour=0)\n",
    "from punisher.utils import dates\n",
    "from punisher.trading.trade import Trade\n",
    "from punisher.feeds import trade_feed"
   ]
  },
  {
   "cell_type": "code",
   "execution_count": 14,
   "metadata": {
    "hidden": true
   },
   "outputs": [
    {
     "ename": "ExchangeError",
     "evalue": "poloniex {\"error\":\"Please specify a time window of no more than 1 month.\"}",
     "output_type": "error",
     "traceback": [
      "\u001b[0;31m---------------------------------------------------------------------------\u001b[0m",
      "\u001b[0;31mExchangeError\u001b[0m                             Traceback (most recent call last)",
      "\u001b[0;32m<ipython-input-14-8d0fcfc44d15>\u001b[0m in \u001b[0;36m<module>\u001b[0;34m()\u001b[0m\n\u001b[0;32m----> 1\u001b[0;31m \u001b[0mtrades\u001b[0m \u001b[0;34m=\u001b[0m \u001b[0mexchange\u001b[0m\u001b[0;34m.\u001b[0m\u001b[0mfetch_public_trades\u001b[0m\u001b[0;34m(\u001b[0m\u001b[0mb\u001b[0m\u001b[0;34m,\u001b[0m \u001b[0mstart\u001b[0m\u001b[0;34m,\u001b[0m \u001b[0mend\u001b[0m\u001b[0;34m)\u001b[0m\u001b[0;34m\u001b[0m\u001b[0m\n\u001b[0m",
      "\u001b[0;32m~/workplace/punisher/punisher/exchanges/ccxt_exchange.py\u001b[0m in \u001b[0;36mfetch_public_trades\u001b[0;34m(self, asset, start, end, limit)\u001b[0m\n\u001b[1;32m     77\u001b[0m             }\n\u001b[1;32m     78\u001b[0m         \u001b[0mstart\u001b[0m \u001b[0;34m=\u001b[0m \u001b[0mutc_to_epoch\u001b[0m\u001b[0;34m(\u001b[0m\u001b[0mstart\u001b[0m\u001b[0;34m)\u001b[0m\u001b[0;34m*\u001b[0m\u001b[0;36m1000\u001b[0m \u001b[0;32mif\u001b[0m \u001b[0mstart\u001b[0m \u001b[0;32mis\u001b[0m \u001b[0;32mnot\u001b[0m \u001b[0;32mNone\u001b[0m \u001b[0;32melse\u001b[0m \u001b[0mutc_to_epoch\u001b[0m\u001b[0;34m(\u001b[0m\u001b[0mstart\u001b[0m\u001b[0;34m)\u001b[0m\u001b[0;34m\u001b[0m\u001b[0m\n\u001b[0;32m---> 79\u001b[0;31m         \u001b[0mresponse\u001b[0m \u001b[0;34m=\u001b[0m \u001b[0mself\u001b[0m\u001b[0;34m.\u001b[0m\u001b[0mclient\u001b[0m\u001b[0;34m.\u001b[0m\u001b[0mfetch_trades\u001b[0m\u001b[0;34m(\u001b[0m\u001b[0masset\u001b[0m\u001b[0;34m.\u001b[0m\u001b[0msymbol\u001b[0m\u001b[0;34m,\u001b[0m \u001b[0mstart\u001b[0m\u001b[0;34m,\u001b[0m \u001b[0mlimit\u001b[0m\u001b[0;34m,\u001b[0m \u001b[0mparams\u001b[0m\u001b[0;34m)\u001b[0m\u001b[0;34m\u001b[0m\u001b[0m\n\u001b[0m\u001b[1;32m     80\u001b[0m         \u001b[0;32mreturn\u001b[0m \u001b[0mself\u001b[0m\u001b[0;34m.\u001b[0m\u001b[0m_build_trades\u001b[0m\u001b[0;34m(\u001b[0m\u001b[0mresponse\u001b[0m\u001b[0;34m)\u001b[0m\u001b[0;34m\u001b[0m\u001b[0m\n\u001b[1;32m     81\u001b[0m \u001b[0;34m\u001b[0m\u001b[0m\n",
      "\u001b[0;32m~/anaconda3/envs/punisher/lib/python3.6/site-packages/ccxt/poloniex.py\u001b[0m in \u001b[0;36mfetch_trades\u001b[0;34m(self, symbol, since, limit, params)\u001b[0m\n\u001b[1;32m    404\u001b[0m             \u001b[0mrequest\u001b[0m\u001b[0;34m[\u001b[0m\u001b[0;34m'start'\u001b[0m\u001b[0;34m]\u001b[0m \u001b[0;34m=\u001b[0m \u001b[0mint\u001b[0m\u001b[0;34m(\u001b[0m\u001b[0msince\u001b[0m \u001b[0;34m/\u001b[0m \u001b[0;36m1000\u001b[0m\u001b[0;34m)\u001b[0m\u001b[0;34m\u001b[0m\u001b[0m\n\u001b[1;32m    405\u001b[0m             \u001b[0mrequest\u001b[0m\u001b[0;34m[\u001b[0m\u001b[0;34m'end'\u001b[0m\u001b[0;34m]\u001b[0m \u001b[0;34m=\u001b[0m \u001b[0mself\u001b[0m\u001b[0;34m.\u001b[0m\u001b[0mseconds\u001b[0m\u001b[0;34m(\u001b[0m\u001b[0;34m)\u001b[0m  \u001b[0;31m# last 50000 trades by default\u001b[0m\u001b[0;34m\u001b[0m\u001b[0m\n\u001b[0;32m--> 406\u001b[0;31m         \u001b[0mtrades\u001b[0m \u001b[0;34m=\u001b[0m \u001b[0mself\u001b[0m\u001b[0;34m.\u001b[0m\u001b[0mpublicGetReturnTradeHistory\u001b[0m\u001b[0;34m(\u001b[0m\u001b[0mself\u001b[0m\u001b[0;34m.\u001b[0m\u001b[0mextend\u001b[0m\u001b[0;34m(\u001b[0m\u001b[0mrequest\u001b[0m\u001b[0;34m,\u001b[0m \u001b[0mparams\u001b[0m\u001b[0;34m)\u001b[0m\u001b[0;34m)\u001b[0m\u001b[0;34m\u001b[0m\u001b[0m\n\u001b[0m\u001b[1;32m    407\u001b[0m         \u001b[0;32mreturn\u001b[0m \u001b[0mself\u001b[0m\u001b[0;34m.\u001b[0m\u001b[0mparse_trades\u001b[0m\u001b[0;34m(\u001b[0m\u001b[0mtrades\u001b[0m\u001b[0;34m,\u001b[0m \u001b[0mmarket\u001b[0m\u001b[0;34m,\u001b[0m \u001b[0msince\u001b[0m\u001b[0;34m,\u001b[0m \u001b[0mlimit\u001b[0m\u001b[0;34m)\u001b[0m\u001b[0;34m\u001b[0m\u001b[0m\n\u001b[1;32m    408\u001b[0m \u001b[0;34m\u001b[0m\u001b[0m\n",
      "\u001b[0;32m~/anaconda3/envs/punisher/lib/python3.6/site-packages/ccxt/poloniex.py\u001b[0m in \u001b[0;36mrequest\u001b[0;34m(self, path, api, method, params, headers, body)\u001b[0m\n\u001b[1;32m    703\u001b[0m             \u001b[0;32mif\u001b[0m \u001b[0mfailed\u001b[0m\u001b[0;34m:\u001b[0m\u001b[0;34m\u001b[0m\u001b[0m\n\u001b[1;32m    704\u001b[0m                 \u001b[0;32mraise\u001b[0m \u001b[0mInsufficientFunds\u001b[0m\u001b[0;34m(\u001b[0m\u001b[0merror\u001b[0m\u001b[0;34m)\u001b[0m\u001b[0;34m\u001b[0m\u001b[0m\n\u001b[0;32m--> 705\u001b[0;31m             \u001b[0;32mraise\u001b[0m \u001b[0mExchangeError\u001b[0m\u001b[0;34m(\u001b[0m\u001b[0merror\u001b[0m\u001b[0;34m)\u001b[0m\u001b[0;34m\u001b[0m\u001b[0m\n\u001b[0m\u001b[1;32m    706\u001b[0m         \u001b[0;32mreturn\u001b[0m \u001b[0mresponse\u001b[0m\u001b[0;34m\u001b[0m\u001b[0m\n",
      "\u001b[0;31mExchangeError\u001b[0m: poloniex {\"error\":\"Please specify a time window of no more than 1 month.\"}"
     ]
    }
   ],
   "source": [
    "trades = exchange.fetch_public_trades(b, start, end)"
   ]
  },
  {
   "cell_type": "code",
   "execution_count": null,
   "metadata": {
    "hidden": true
   },
   "outputs": [],
   "source": [
    "df = trade_feed.load_trades(exchange.id, b, start)"
   ]
  },
  {
   "cell_type": "code",
   "execution_count": 18,
   "metadata": {
    "hidden": true
   },
   "outputs": [
    {
     "data": {
      "text/html": [
       "<div>\n",
       "<style scoped>\n",
       "    .dataframe tbody tr th:only-of-type {\n",
       "        vertical-align: middle;\n",
       "    }\n",
       "\n",
       "    .dataframe tbody tr th {\n",
       "        vertical-align: top;\n",
       "    }\n",
       "\n",
       "    .dataframe thead th {\n",
       "        text-align: right;\n",
       "    }\n",
       "</style>\n",
       "<table border=\"1\" class=\"dataframe\">\n",
       "  <thead>\n",
       "    <tr style=\"text-align: right;\">\n",
       "      <th></th>\n",
       "      <th>exchange_id</th>\n",
       "      <th>exchange_order_id</th>\n",
       "      <th>price</th>\n",
       "      <th>quantity</th>\n",
       "      <th>trade_time</th>\n",
       "      <th>fee</th>\n",
       "      <th>side</th>\n",
       "      <th>symbol</th>\n",
       "    </tr>\n",
       "    <tr>\n",
       "      <th>id</th>\n",
       "      <th></th>\n",
       "      <th></th>\n",
       "      <th></th>\n",
       "      <th></th>\n",
       "      <th></th>\n",
       "      <th></th>\n",
       "      <th></th>\n",
       "      <th></th>\n",
       "    </tr>\n",
       "  </thead>\n",
       "  <tbody>\n",
       "    <tr>\n",
       "      <th>7257429</th>\n",
       "      <td>poloniex</td>\n",
       "      <td>NaN</td>\n",
       "      <td>0.01403</td>\n",
       "      <td>0.008867</td>\n",
       "      <td>2017-01-01 23:59:38+00:00</td>\n",
       "      <td>0.0</td>\n",
       "      <td>SELL</td>\n",
       "      <td>XMR/BTC</td>\n",
       "    </tr>\n",
       "    <tr>\n",
       "      <th>7257430</th>\n",
       "      <td>poloniex</td>\n",
       "      <td>NaN</td>\n",
       "      <td>0.01403</td>\n",
       "      <td>0.008867</td>\n",
       "      <td>2017-01-01 23:59:40+00:00</td>\n",
       "      <td>0.0</td>\n",
       "      <td>SELL</td>\n",
       "      <td>XMR/BTC</td>\n",
       "    </tr>\n",
       "    <tr>\n",
       "      <th>7257431</th>\n",
       "      <td>poloniex</td>\n",
       "      <td>NaN</td>\n",
       "      <td>0.01403</td>\n",
       "      <td>0.008867</td>\n",
       "      <td>2017-01-01 23:59:44+00:00</td>\n",
       "      <td>0.0</td>\n",
       "      <td>SELL</td>\n",
       "      <td>XMR/BTC</td>\n",
       "    </tr>\n",
       "    <tr>\n",
       "      <th>7257432</th>\n",
       "      <td>poloniex</td>\n",
       "      <td>NaN</td>\n",
       "      <td>0.01403</td>\n",
       "      <td>0.008867</td>\n",
       "      <td>2017-01-01 23:59:47+00:00</td>\n",
       "      <td>0.0</td>\n",
       "      <td>SELL</td>\n",
       "      <td>XMR/BTC</td>\n",
       "    </tr>\n",
       "    <tr>\n",
       "      <th>7257433</th>\n",
       "      <td>poloniex</td>\n",
       "      <td>NaN</td>\n",
       "      <td>0.01403</td>\n",
       "      <td>0.008867</td>\n",
       "      <td>2017-01-01 23:59:50+00:00</td>\n",
       "      <td>0.0</td>\n",
       "      <td>SELL</td>\n",
       "      <td>XMR/BTC</td>\n",
       "    </tr>\n",
       "  </tbody>\n",
       "</table>\n",
       "</div>"
      ],
      "text/plain": [
       "        exchange_id  exchange_order_id    price  quantity  \\\n",
       "id                                                          \n",
       "7257429    poloniex                NaN  0.01403  0.008867   \n",
       "7257430    poloniex                NaN  0.01403  0.008867   \n",
       "7257431    poloniex                NaN  0.01403  0.008867   \n",
       "7257432    poloniex                NaN  0.01403  0.008867   \n",
       "7257433    poloniex                NaN  0.01403  0.008867   \n",
       "\n",
       "                       trade_time  fee  side   symbol  \n",
       "id                                                     \n",
       "7257429 2017-01-01 23:59:38+00:00  0.0  SELL  XMR/BTC  \n",
       "7257430 2017-01-01 23:59:40+00:00  0.0  SELL  XMR/BTC  \n",
       "7257431 2017-01-01 23:59:44+00:00  0.0  SELL  XMR/BTC  \n",
       "7257432 2017-01-01 23:59:47+00:00  0.0  SELL  XMR/BTC  \n",
       "7257433 2017-01-01 23:59:50+00:00  0.0  SELL  XMR/BTC  "
      ]
     },
     "execution_count": 18,
     "metadata": {},
     "output_type": "execute_result"
    }
   ],
   "source": [
    "df.tail()"
   ]
  },
  {
   "cell_type": "markdown",
   "metadata": {},
   "source": [
    "## Asyncio"
   ]
  },
  {
   "cell_type": "markdown",
   "metadata": {},
   "source": [
    "* https://hackernoon.com/asyncio-for-the-working-python-developer-5c468e6e2e8e"
   ]
  },
  {
   "cell_type": "code",
   "execution_count": 86,
   "metadata": {},
   "outputs": [
    {
     "name": "stdout",
     "output_type": "stream",
     "text": [
      "Running in foo\n",
      "a b c\n",
      "Explicit context to bar\n",
      "Implicit context switch back to bar\n",
      "Explicit context switch to foo again\n"
     ]
    },
    {
     "data": {
      "text/plain": [
       "({<Task finished coro=<bar() done, defined at <ipython-input-86-f6f863d6a3a2>:14> result={'num': 5}>,\n",
       "  <Task finished coro=<foo() done, defined at <ipython-input-86-f6f863d6a3a2>:7> result=10>},\n",
       " set())"
      ]
     },
     "execution_count": 86,
     "metadata": {},
     "output_type": "execute_result"
    }
   ],
   "source": [
    "import asyncio \n",
    "import functools\n",
    "\n",
    "async def yo(num):\n",
    "    return {'num': num}\n",
    "\n",
    "async def foo(a, b, c):\n",
    "    print('Running in foo')\n",
    "    print(a, b, c)\n",
    "    await asyncio.sleep(5)\n",
    "    print('Explicit context switch to foo again')\n",
    "    return 10\n",
    "\n",
    "async def bar():\n",
    "    print('Explicit context to bar')\n",
    "    #await asyncio.sleep(0)\n",
    "    print('Implicit context switch back to bar')\n",
    "    num = await yo(5)\n",
    "    return num\n",
    "\n",
    "loop = asyncio.new_event_loop()\n",
    "a,b,c = 'abc'\n",
    "tasks = [loop.create_task(foo(a,b,c)), loop.create_task(bar())]\n",
    "wait_tasks = asyncio.wait(tasks)\n",
    "loop.run_until_complete(wait_tasks)\n",
    "#loop.run_forever()\n",
    "#loop.close()"
   ]
  },
  {
   "cell_type": "code",
   "execution_count": null,
   "metadata": {},
   "outputs": [],
   "source": [
    "loop.run_forever()"
   ]
  },
  {
   "cell_type": "code",
   "execution_count": 59,
   "metadata": {},
   "outputs": [
    {
     "name": "stdout",
     "output_type": "stream",
     "text": [
      "gr1 started work: at 0.0 seconds\n",
      "gr2 started work: at 0.0 seconds\n",
      "Let's do some stuff while the coroutines are blocked, at 0.0 seconds\n",
      "Done!\n",
      "gr1 ended work: at 3.0 seconds\n",
      "gr2 Ended work: at 3.0 seconds\n"
     ]
    }
   ],
   "source": [
    "import time\n",
    "\n",
    "start = time.time()\n",
    "\n",
    "\n",
    "def tic():\n",
    "    return 'at %1.1f seconds' % (time.time() - start)\n",
    "\n",
    "\n",
    "async def gr1():\n",
    "    # Busy waits for a second, but we don't want to stick around...\n",
    "    print('gr1 started work: {}'.format(tic()))\n",
    "    await asyncio.sleep(3)\n",
    "    print('gr1 ended work: {}'.format(tic()))\n",
    "\n",
    "\n",
    "async def gr2():\n",
    "    # Busy waits for a second, but we don't want to stick around...\n",
    "    print('gr2 started work: {}'.format(tic()))\n",
    "    await asyncio.sleep(3)\n",
    "    print('gr2 Ended work: {}'.format(tic()))\n",
    "\n",
    "\n",
    "async def gr3():\n",
    "    print(\"Let's do some stuff while the coroutines are blocked, {}\".format(tic()))\n",
    "    await asyncio.sleep(1)\n",
    "    print(\"Done!\")\n",
    "\n",
    "\n",
    "ioloop = asyncio.new_event_loop()\n",
    "tasks = [\n",
    "    ioloop.create_task(gr1()),\n",
    "    ioloop.create_task(gr2()),\n",
    "    ioloop.create_task(gr3())\n",
    "]\n",
    "ioloop.run_until_complete(asyncio.wait(tasks))\n",
    "ioloop.close()"
   ]
  },
  {
   "cell_type": "code",
   "execution_count": 62,
   "metadata": {},
   "outputs": [
    {
     "name": "stdout",
     "output_type": "stream",
     "text": [
      "Synchronous:\n",
      "Fetch sync process 1 started\n",
      "Process 1: Sat, 24 Feb 2018 04:09:16 GMT, took: 0.35 seconds\n",
      "Fetch sync process 2 started\n",
      "Process 2: Sat, 24 Feb 2018 04:09:17 GMT, took: 0.32 seconds\n",
      "Fetch sync process 3 started\n",
      "Process 3: Sat, 24 Feb 2018 04:09:17 GMT, took: 0.34 seconds\n",
      "Process took: 1.02 seconds\n",
      "Asynchronous:\n",
      "Fetch async process 1 started\n",
      "Fetch async process 2 started\n",
      "Fetch async process 3 started\n"
     ]
    },
    {
     "name": "stderr",
     "output_type": "stream",
     "text": [
      "Unclosed client session\n",
      "client_session: <aiohttp.client.ClientSession object at 0x7fa58e5aafd0>\n",
      "Unclosed client session\n",
      "client_session: <aiohttp.client.ClientSession object at 0x7fa58e5bf6d8>\n",
      "Unclosed client session\n",
      "client_session: <aiohttp.client.ClientSession object at 0x7fa58e5aa438>\n"
     ]
    },
    {
     "name": "stdout",
     "output_type": "stream",
     "text": [
      "Process 1: Sat, 24 Feb 2018 04:09:17 GMT, took: 0.34 seconds\n",
      "Process 2: Sat, 24 Feb 2018 04:09:17 GMT, took: 0.34 seconds\n",
      "Process 3: Sat, 24 Feb 2018 04:09:17 GMT, took: 0.35 seconds\n",
      "Process took: 0.37 seconds\n"
     ]
    }
   ],
   "source": [
    "import urllib.request\n",
    "import aiohttp\n",
    "\n",
    "URL = 'https://api.github.com/events'\n",
    "MAX_CLIENTS = 3\n",
    "\n",
    "\n",
    "def fetch_sync(pid):\n",
    "    print('Fetch sync process {} started'.format(pid))\n",
    "    start = time.time()\n",
    "    response = urllib.request.urlopen(URL)\n",
    "    datetime = response.getheader('Date')\n",
    "\n",
    "    print('Process {}: {}, took: {:.2f} seconds'.format(\n",
    "        pid, datetime, time.time() - start))\n",
    "\n",
    "    return datetime\n",
    "\n",
    "\n",
    "async def fetch_async(pid):\n",
    "    print('Fetch async process {} started'.format(pid))\n",
    "    start = time.time()\n",
    "    response = await aiohttp.request('GET', URL)\n",
    "    datetime = response.headers.get('Date')\n",
    "\n",
    "    print('Process {}: {}, took: {:.2f} seconds'.format(\n",
    "        pid, datetime, time.time() - start))\n",
    "\n",
    "    response.close()\n",
    "    return datetime\n",
    "\n",
    "\n",
    "def synchronous():\n",
    "    start = time.time()\n",
    "    for i in range(1, MAX_CLIENTS + 1):\n",
    "        fetch_sync(i)\n",
    "    print(\"Process took: {:.2f} seconds\".format(time.time() - start))\n",
    "\n",
    "\n",
    "async def asynchronous():\n",
    "    start = time.time()\n",
    "    tasks = [asyncio.ensure_future(\n",
    "        fetch_async(i)) for i in range(1, MAX_CLIENTS + 1)]\n",
    "    await asyncio.wait(tasks)\n",
    "    print(\"Process took: {:.2f} seconds\".format(time.time() - start))\n",
    "\n",
    "\n",
    "print('Synchronous:')\n",
    "synchronous()\n",
    "\n",
    "print('Asynchronous:')\n",
    "ioloop = asyncio.new_event_loop()\n",
    "ioloop.run_until_complete(asynchronous())\n",
    "ioloop.close()"
   ]
  },
  {
   "cell_type": "code",
   "execution_count": 78,
   "metadata": {},
   "outputs": [
    {
     "name": "stderr",
     "output_type": "stream",
     "text": [
      "Unclosed client session\n",
      "client_session: <aiohttp.client.ClientSession object at 0x7fa58ebf2550>\n"
     ]
    },
    {
     "name": "stdout",
     "output_type": "stream",
     "text": [
      "Fetching IP from ipify\n",
      "Fetching IP from borken\n",
      "Fetching IP from ip-api\n",
      "Fetching IP from ipify\n"
     ]
    },
    {
     "name": "stderr",
     "output_type": "stream",
     "text": [
      "Unclosed client session\n",
      "client_session: <aiohttp.client.ClientSession object at 0x7fa58ebf20f0>\n",
      "Unclosed client session\n",
      "client_session: <aiohttp.client.ClientSession object at 0x7fa58dd41d30>\n"
     ]
    },
    {
     "name": "stdout",
     "output_type": "stream",
     "text": [
      "Unexpected error: Traceback (most recent call last):\n",
      "  File \"<ipython-input-78-ca4b55bef5b5>\", line 40, in asynchronous\n",
      "    print(future.result())\n",
      "  File \"<ipython-input-78-ca4b55bef5b5>\", line 27, in fetch_ip\n",
      "    ip = json_response[service.ip_attr]\n",
      "KeyError: 'this-is-not-an-attr'\n",
      "\n",
      "ipify finished with result: 24.5.150.30, took: 0.37 seconds\n",
      "ipify finished with result: 24.5.150.30, took: 0.37 seconds\n",
      "borken is unresponsive\n"
     ]
    }
   ],
   "source": [
    "from collections import namedtuple\n",
    "import time\n",
    "import asyncio\n",
    "import aiohttp\n",
    "import traceback\n",
    "\n",
    "Service = namedtuple('Service', ('name', 'url', 'ip_attr'))\n",
    "\n",
    "SERVICES = (\n",
    "    Service('borken', 'http://no-way-this-is-going-to-work.com/json', 'ip'),\n",
    "    Service('ipify', 'https://api.ipify.org?format=json', 'ip'),\n",
    "    Service('ipify', 'https://api.ipify.org?format=json', 'ip'),\n",
    "    Service('ip-api', 'http://ip-api.com/json', 'this-is-not-an-attr'),\n",
    ")\n",
    "\n",
    "\n",
    "async def fetch_ip(service):\n",
    "    start = time.time()\n",
    "    print('Fetching IP from {}'.format(service.name))\n",
    "\n",
    "    try:\n",
    "        response = await aiohttp.request('GET', service.url)\n",
    "    except:\n",
    "        return '{} is unresponsive'.format(service.name)\n",
    "\n",
    "    json_response = await response.json()\n",
    "    ip = json_response[service.ip_attr]\n",
    "\n",
    "    response.close()\n",
    "    return '{} finished with result: {}, took: {:.2f} seconds'.format(\n",
    "        service.name, ip, time.time() - start)\n",
    "\n",
    "\n",
    "async def asynchronous():\n",
    "    futures = [fetch_ip(service) for service in SERVICES]\n",
    "    done, _ = await asyncio.wait(futures)\n",
    "\n",
    "    for future in done:\n",
    "        try:\n",
    "            print(future.result())\n",
    "        except:\n",
    "            print(\"Unexpected error: {}\".format(traceback.format_exc()))\n",
    "\n",
    "\n",
    "ioloop = asyncio.new_event_loop()\n",
    "ioloop.run_until_complete(asynchronous())\n",
    "ioloop.close()"
   ]
  },
  {
   "cell_type": "markdown",
   "metadata": {
    "heading_collapsed": true
   },
   "source": [
    "## Fetch Ticker\n",
    "\n",
    "* https://github.com/ccxt/ccxt/blob/master/examples/py/async-tickers.py"
   ]
  },
  {
   "cell_type": "code",
   "execution_count": null,
   "metadata": {
    "hidden": true
   },
   "outputs": [],
   "source": [
    "async def fetch_ticker(exchange, asset):\n",
    "    ticker = exchange.fetch_ticker(asset)\n",
    "    return ticker\n",
    "\n",
    "def fetch_tickers(exchange, assets):\n",
    "    _ = exchange.get_markets()\n",
    "    loop = asyncio.get_event_loop()\n",
    "    tasks = [loop.create_task(fetch_ticker(exchange, asset)) for asset in assets]\n",
    "    results = loop.run_until_complete(asyncio.wait(tasks))\n",
    "    #loop.close()\n",
    "    return list(results[0])"
   ]
  },
  {
   "cell_type": "code",
   "execution_count": null,
   "metadata": {
    "hidden": true
   },
   "outputs": [],
   "source": [
    "asset = Asset(coins.ETH, coins.BTC)\n",
    "assets = [asset, Asset(coins.LTC, coins.BTC)]\n",
    "_ = exchange.fetch_ticker(asset)"
   ]
  },
  {
   "cell_type": "code",
   "execution_count": null,
   "metadata": {
    "hidden": true
   },
   "outputs": [],
   "source": [
    "res = fetch_tickers(exchange, assets)\n",
    "res[0].result()"
   ]
  },
  {
   "cell_type": "markdown",
   "metadata": {},
   "source": [
    "## Fetch Order Book"
   ]
  },
  {
   "cell_type": "code",
   "execution_count": 26,
   "metadata": {},
   "outputs": [],
   "source": [
    "async def fetch_order_book(exchange, asset):\n",
    "    ticker = exchange.fetch_order_book(asset)\n",
    "    return ticker\n",
    "\n",
    "def fetch_tickers(exchange, assets):\n",
    "    _ = exchange.get_markets()\n",
    "    loop = asyncio.get_event_loop()\n",
    "    tasks = [loop.create_task(fetch_ticker(exchange, asset)) for asset in assets]\n",
    "    results = loop.run_until_complete(asyncio.wait(tasks))\n",
    "    #loop.close()\n",
    "    return list(results[0])"
   ]
  },
  {
   "cell_type": "code",
   "execution_count": null,
   "metadata": {},
   "outputs": [],
   "source": [
    "exchange = load_exchange('gdax')\n",
    "asset = Asset(coins.ETH, coins.BTC)\n",
    "assets = [asset, Asset(coins.LTC, coins.BTC)]"
   ]
  },
  {
   "cell_type": "code",
   "execution_count": null,
   "metadata": {},
   "outputs": [],
   "source": [
    "# Normal Order book\n",
    "book = exchange.fetch_order_book(asset)\n",
    "len(book['asks'])"
   ]
  },
  {
   "cell_type": "code",
   "execution_count": 29,
   "metadata": {},
   "outputs": [
    {
     "data": {
      "text/plain": [
       "50"
      ]
     },
     "execution_count": 29,
     "metadata": {},
     "output_type": "execute_result"
    }
   ],
   "source": [
    "# Raw Order book (un-aggregated)\n",
    "exchange = load_exchange('gdax')\n",
    "asset = Asset(coins.ETH, coins.USD)\n",
    "assets = [asset]\n",
    "book = exchange.fetch_raw_order_book(asset, level=2)\n",
    "len(book['bids'])"
   ]
  },
  {
   "cell_type": "markdown",
   "metadata": {},
   "source": [
    "## Exchange"
   ]
  },
  {
   "cell_type": "code",
   "execution_count": null,
   "metadata": {},
   "outputs": [],
   "source": [
    "# Public informaiton\n",
    "exchanges = [ex_cfg.PAPER, ex_cfg.BINANCE, ex_cfg.GDAX, ex_cfg.POLONIEX]\n",
    "a = Asset(coins.ETH, coins.BTC)\n",
    "ms=[]\n",
    "for ex in exchanges:\n",
    "    print(\"Exchange\", ex)\n",
    "    exchange = load_exchange(ex)\n",
    "    print(exchange.timeframes)\n",
    "    ms.append(exchange.get_markets())\n",
    "    exchange.fetch_ohlcv(a, Timeframe.FIFTEEN_MIN, datetime.datetime.utcnow())\n",
    "    exchange.fetch_order_book(a)\n",
    "    exchange.fetch_public_trades(a)\n",
    "    exchange.fetch_ticker(a)"
   ]
  },
  {
   "cell_type": "code",
   "execution_count": null,
   "metadata": {},
   "outputs": [],
   "source": [
    "# Public informaiton\n",
    "exchanges = [ex_cfg.PAPER, ex_cfg.BINANCE, ex_cfg.GDAX, ex_cfg.POLONIEX]\n",
    "a = Asset(coins.ETH, coins.BTC)\n",
    "ex =  ex_cfg.BINANCE\n",
    "print(\"Exchange\", ex)\n",
    "exchange = load_exchange(ex)\n",
    "exchange.get_markets()\n",
    "print(exchange.fetch_order_book(a, params={\"limit\":10}))\n",
    "exchange.fetch_public_trades(a)\n",
    "exchange.fetch_ticker(a)"
   ]
  },
  {
   "cell_type": "code",
   "execution_count": null,
   "metadata": {
    "scrolled": false
   },
   "outputs": [],
   "source": [
    "# Account Information\n",
    "exchanges = [ex_cfg.PAPER, ex_cfg.BINANCE, ex_cfg.GDAX]\n",
    "a = Asset(coins.ETH, coins.BTC)\n",
    "for ex in exchanges:\n",
    "    print(\"Exchange\", ex)\n",
    "    exchange = load_exchange(ex)\n",
    "    b = exchange.fetch_balance()\n",
    "    exchange.fetch_balance()\n",
    "    exchange.fetch_orders(a)\n",
    "    exchange.fetch_open_orders(a)\n",
    "    exchange.fetch_closed_orders(a)"
   ]
  },
  {
   "cell_type": "code",
   "execution_count": null,
   "metadata": {},
   "outputs": [],
   "source": [
    "exchange = load_exchange(ex_cfg.PAPER) # ex_cfg.BINANCE\n",
    "a = Asset(coins.ETH, coins.BTC)\n",
    "\n",
    "# Market BUY\n",
    "print(\"Exchange\", exchange.id)\n",
    "order = exchange.create_market_buy_order(a, .01)\n",
    "balance = exchange.fetch_balance()\n",
    "print(a.base, balance.get(a.base), a.quote, balance.get(a.quote))\n",
    "order"
   ]
  },
  {
   "cell_type": "code",
   "execution_count": null,
   "metadata": {},
   "outputs": [],
   "source": [
    "# Check Order\n",
    "balance = exchange.fetch_balance()\n",
    "print(a.base, balance.get(a.base), a.quote, balance.get(a.quote))\n",
    "found_order = exchange.fetch_order(order.ex_order_id, a.symbol)\n",
    "found_order"
   ]
  },
  {
   "cell_type": "code",
   "execution_count": null,
   "metadata": {},
   "outputs": [],
   "source": [
    "# Sell all remaining quantity\n",
    "curr_balance = exchange.fetch_balance().get(a.base)\n",
    "print(a.base, curr_balance[BalanceType.TOTAL])\n",
    "order = exchange.create_market_sell_order(a, curr_balance[BalanceType.TOTAL])\n",
    "order"
   ]
  },
  {
   "cell_type": "code",
   "execution_count": null,
   "metadata": {},
   "outputs": [],
   "source": [
    "exchange.fetch_balance().get(a.base), exchange.fetch_balance().get(a.quote)"
   ]
  },
  {
   "cell_type": "markdown",
   "metadata": {},
   "source": [
    "### Dates"
   ]
  },
  {
   "cell_type": "code",
   "execution_count": null,
   "metadata": {},
   "outputs": [],
   "source": [
    "print(Timeframe.FIVE_MIN.delta)\n",
    "print(Timeframe.FIVE_MIN.id)"
   ]
  },
  {
   "cell_type": "markdown",
   "metadata": {},
   "source": [
    "### OHLCV Data"
   ]
  },
  {
   "cell_type": "code",
   "execution_count": null,
   "metadata": {},
   "outputs": [],
   "source": [
    "base = coins.ETH\n",
    "quote = coins.BTC\n",
    "exchange = load_exchange(ex_cfg.PAPER)\n",
    "asset = Asset(base, quote)\n",
    "assets = [ Asset(coin, quote) for coin in [coins.ETH, coins.LTC] ]\n",
    "timeframe = Timeframe.THIRTY_MIN\n",
    "start = datetime.datetime(year=2017, month=9, day=1)\n",
    "end = None\n",
    "#exchange = load_exchange(ex_cfg.BINANCE)"
   ]
  },
  {
   "cell_type": "code",
   "execution_count": null,
   "metadata": {},
   "outputs": [],
   "source": [
    "# Single Coin\n",
    "df = ohlcv_feed.fetch_and_save_asset(exchange, asset, timeframe, start, end)\n",
    "df"
   ]
  },
  {
   "cell_type": "code",
   "execution_count": null,
   "metadata": {},
   "outputs": [],
   "source": [
    "# Load from File\n",
    "fpath = ohlcv_feed.get_ohlcv_fpath(asset, exchange.id, timeframe)\n",
    "df = ohlcv_feed.load_asset(fpath)\n",
    "df.head()"
   ]
  },
  {
   "cell_type": "code",
   "execution_count": null,
   "metadata": {},
   "outputs": [],
   "source": [
    "# Multiple Coins\n",
    "exchanges = [exchange]\n",
    "assets = [ Asset(coin, quote) for coin in [coins.ETH, coins.LTC] ]\n",
    "ohlcv_feed.download_ohlcv(exchanges, assets, timeframe, start, end, update=False)\n",
    "df = ohlcv_feed.load_multiple_assets([exchange.id], assets, timeframe, start)\n",
    "df.head()"
   ]
  },
  {
   "cell_type": "code",
   "execution_count": null,
   "metadata": {},
   "outputs": [],
   "source": [
    "# Get Benchmark Assets\n",
    "exchanges = [ex_cfg.PAPER, ex_cfg.BINANCE, ex_cfg.GDAX, ex_cfg.POLONIEX]\n",
    "for ex in exchanges:\n",
    "    ex = load_exchange(ex)\n",
    "    print(ex.id, ohlcv_feed.get_benchmark_asset(ex).symbol)"
   ]
  },
  {
   "cell_type": "markdown",
   "metadata": {},
   "source": [
    "### DataStore"
   ]
  },
  {
   "cell_type": "code",
   "execution_count": null,
   "metadata": {},
   "outputs": [],
   "source": [
    "experiment_name = 'store_testing'\n",
    "fname = 'ohlcv.csv'\n",
    "store = FileStore(os.path.join(cfg.DATA_DIR, experiment_name))"
   ]
  },
  {
   "cell_type": "code",
   "execution_count": null,
   "metadata": {},
   "outputs": [],
   "source": [
    "exchange = load_exchange(ex_cfg.BINANCE)\n",
    "asset = Asset(coins.ETH, coins.BTC)\n",
    "timeframe = Timeframe.FIFTEEN_MIN\n",
    "start = datetime.datetime.utcnow() - datetime.timedelta(hours=2)\n",
    "end = datetime.datetime.utcnow() - datetime.timedelta(hours=0)\n",
    "df = ohlcv_feed.fetch_and_save_asset(exchange, asset, timeframe, start, end)"
   ]
  },
  {
   "cell_type": "code",
   "execution_count": null,
   "metadata": {},
   "outputs": [],
   "source": [
    "# DataFrame --> CSV\n",
    "store.df_to_csv(df, fname)\n",
    "df = store.csv_to_df(fname, index='epoch')\n",
    "df.head()"
   ]
  },
  {
   "cell_type": "code",
   "execution_count": null,
   "metadata": {},
   "outputs": [],
   "source": [
    "# DataFrame --> JSON\n",
    "store.df_to_json(df, fname)\n",
    "df = store.json_to_df(fname, index='epoch')\n",
    "df.head()"
   ]
  },
  {
   "cell_type": "code",
   "execution_count": null,
   "metadata": {},
   "outputs": [],
   "source": [
    "# JSON\n",
    "dct = {\n",
    "    'sample': 1,\n",
    "    'time': datetime.datetime.utcnow()\n",
    "}\n",
    "store.save_json(fname, dct)\n",
    "dct = store.load_json(fname)\n",
    "dct"
   ]
  },
  {
   "cell_type": "markdown",
   "metadata": {},
   "source": [
    "### Data Feed"
   ]
  },
  {
   "cell_type": "code",
   "execution_count": null,
   "metadata": {
    "scrolled": true
   },
   "outputs": [],
   "source": [
    "default_assets = [Asset(coins.ETH, coins.BTC)]\n",
    "def get_test_live_feed(exchange_ids, assets=None):\n",
    "    assets = assets if assets is not None else default_assets\n",
    "    exchanges = [load_exchange(id_) for id_ in exchange_ids]\n",
    "    timeframe = Timeframe.FIFTEEN_MIN\n",
    "    start = datetime.datetime.utcnow() - datetime.timedelta(hours=2)\n",
    "    end = datetime.datetime.utcnow() - datetime.timedelta(hours=0)\n",
    "    feed = OHLCVExchangeFeed(exchanges, assets, timeframe, start, end=None)\n",
    "    return feed\n",
    "\n",
    "def get_test_csv_feed(exchange_id, assets=None):\n",
    "    assets = assets if assets is not None else default_assets\n",
    "    start = datetime.datetime(year=2018, month=1, day=9)\n",
    "    end = datetime.datetime(year=2018, month=1, day=12)\n",
    "    timeframe = Timeframe.THIRTY_MIN\n",
    "    exchange = load_exchange(exchange_id)\n",
    "    ohlcv_feed.fetch_and_save_asset(exchange, asset, timeframe, start, end)\n",
    "    feed = OHLCVFileFeed([exchange_id], assets, timeframe, start, end)\n",
    "    return feed"
   ]
  },
  {
   "cell_type": "code",
   "execution_count": null,
   "metadata": {},
   "outputs": [],
   "source": [
    "# FileFeed - Single Asset + Exchange\n",
    "ex_id = ex_cfg.BINANCE\n",
    "asset = Asset(coins.ETH, coins.BTC)\n",
    "csv_feed = get_test_csv_feed(ex_id, [asset])\n",
    "\n",
    "data = csv_feed.next()\n",
    "print(data.get('utc'), data.get('close', asset.symbol, ex_id))\n",
    "peek_data = csv_feed.peek()\n",
    "print(data.get('utc'), data.get('close', asset.symbol, ex_id))\n",
    "\n",
    "# Access all rows in history\n",
    "csv_feed.history().df\n",
    "    \n",
    "peek_data = csv_feed.peek()\n",
    "peek_data.df"
   ]
  },
  {
   "cell_type": "code",
   "execution_count": null,
   "metadata": {},
   "outputs": [],
   "source": [
    "# ExchangeFeed - Single Asset +  Exchange \n",
    "asset = Asset(coins.LTC, coins.BTC)\n",
    "ex_id = ex_cfg.BINANCE\n",
    "\n",
    "live_feed = get_test_live_feed([ex_id], assets=[asset])\n",
    "\n",
    "# Grab 1 row at a time\n",
    "for i in range(1):\n",
    "    data = live_feed.next()\n",
    "    print(data.get('utc'), data.get('close', asset.symbol, ex_id))    \n",
    "\n",
    "peek_data = live_feed.peek()\n",
    "print(peek_data.get('utc'), peek_data.get('close', asset.symbol, ex_id))\n",
    "\n",
    "# Access all rows in history\n",
    "live_feed.history().df"
   ]
  },
  {
   "cell_type": "code",
   "execution_count": null,
   "metadata": {},
   "outputs": [],
   "source": [
    "# ExchangeFeed - Single Asset + Multiple Exchanges\n",
    "assets = [Asset(coins.ETH, coins.BTC)]\n",
    "exchange_ids = [ex_cfg.BINANCE, ex_cfg.PAPER]\n",
    "\n",
    "live_feed = get_test_live_feed(exchange_ids, assets)\n",
    "\n",
    "peek_data = live_feed.peek()\n",
    "print(peek_data.get('utc'), peek_data.get('close', assets[0].symbol, ex_cfg.BINANCE))\n",
    "\n",
    "# Access all rows in history\n",
    "print(live_feed.history().df)\n",
    "print(live_feed.history().df['open_ETH/BTC_binance'])"
   ]
  },
  {
   "cell_type": "code",
   "execution_count": null,
   "metadata": {},
   "outputs": [],
   "source": [
    "# ExchangeFeed - Multiple Assets + Multiple Exchanges\n",
    "assets = [Asset(coins.ETH, coins.BTC), Asset(coins.LTC, coins.BTC)]\n",
    "exchange_ids = [ex_cfg.BINANCE, ex_cfg.GDAX]\n",
    "\n",
    "live_feed = get_test_live_feed(exchange_ids, assets)\n",
    "\n",
    "peek_data = live_feed.peek()\n",
    "print(peek_data.get('utc'), peek_data.get('close', assets[1].symbol, ex_cfg.BINANCE))\n",
    "\n",
    "# Access all rows in history\n",
    "print(live_feed.history().df)\n",
    "print(live_feed.history().df['open_ETH/BTC_binance'])"
   ]
  },
  {
   "cell_type": "markdown",
   "metadata": {},
   "source": [
    "### Currency Conversion"
   ]
  },
  {
   "cell_type": "code",
   "execution_count": null,
   "metadata": {},
   "outputs": [],
   "source": [
    "# ExchangeFeed - Multiple Assets + Multiple Exchanges\n",
    "assets = [Asset(coins.ETH, coins.BTC), Asset(coins.LTC, coins.BTC)]\n",
    "exchange_ids = [ex_cfg.BINANCE, ex_cfg.GDAX]\n",
    "live_feed = get_test_live_feed(exchange_ids, assets)"
   ]
  },
  {
   "cell_type": "code",
   "execution_count": null,
   "metadata": {},
   "outputs": [],
   "source": [
    "data = live_feed.next(refresh=False)\n",
    "data = live_feed.next(refresh=False)\n",
    "data = live_feed.history()\n",
    "data.df"
   ]
  },
  {
   "cell_type": "code",
   "execution_count": null,
   "metadata": {},
   "outputs": [],
   "source": [
    "rates = {}\n",
    "for cash_coin in [coins.USD, coins.BTC, coins.USDT]:\n",
    "    for ex_id in exchange_ids:\n",
    "        for asset in assets:\n",
    "            res = ohlcv_feed.get_exchange_rate(\n",
    "                data.df, asset.quote, cash_coin, ex_id)\n",
    "            rates[asset.symbol + ex_id + cash_coin] = res\n",
    "for k,v in rates.items():\n",
    "    print(k,':', v)"
   ]
  },
  {
   "cell_type": "code",
   "execution_count": null,
   "metadata": {},
   "outputs": [],
   "source": [
    "vals = {}\n",
    "for cash_coin in [coins.USD, coins.BTC, coins.USDT]:\n",
    "    for ex_id in exchange_ids:\n",
    "        for asset in assets:\n",
    "            res = ohlcv_feed.get_cash_value(\n",
    "                data.df, 'close', asset, ex_id, cash_coin)\n",
    "            vals[asset.symbol + ex_id + cash_coin] = res\n",
    "for k,v in vals.items():\n",
    "    print(k,':', v)"
   ]
  },
  {
   "cell_type": "markdown",
   "metadata": {},
   "source": [
    "### Exchange Data Providers"
   ]
  },
  {
   "cell_type": "code",
   "execution_count": null,
   "metadata": {},
   "outputs": [],
   "source": [
    "ex_id = ex_cfg.BINANCE\n",
    "asset = Asset(coins.ETH, coins.BTC)\n",
    "csv_feed = get_test_csv_feed(ex_id, [asset])\n",
    "csv_feed.next()\n",
    "dp = FeedExchangeDataProvider(csv_feed, ex_id)\n",
    "start = datetime.datetime.utcnow()\n",
    "print(dp.fetch_order_book(asset))\n",
    "print(dp.fetch_public_trades(asset))\n",
    "print(dp.fetch_ohlcv(asset, Timeframe.ONE_DAY, start))\n",
    "print(dp.fetch_ticker(asset))\n",
    "print(dp.get_markets())"
   ]
  },
  {
   "cell_type": "code",
   "execution_count": null,
   "metadata": {},
   "outputs": [],
   "source": [
    "asset = Asset(coins.ETH, coins.BTC)\n",
    "exchange = load_exchange(ex_cfg.BINANCE)\n",
    "dp = CCXTExchangeDataProvider(exchange)\n",
    "print(dp.fetch_order_book(asset)['bids'][:1])\n",
    "print(dp.fetch_public_trades(asset)[:1])\n",
    "print(dp.fetch_ohlcv(asset, Timeframe.ONE_DAY, start)[:1])\n",
    "print(dp.fetch_ticker(asset))\n",
    "print(dp.get_markets()['ETH/BTC'])"
   ]
  },
  {
   "cell_type": "markdown",
   "metadata": {},
   "source": [
    "### OrderType"
   ]
  },
  {
   "cell_type": "code",
   "execution_count": null,
   "metadata": {},
   "outputs": [],
   "source": [
    "assert OrderType.from_type_side('limit','buy') == OrderType.LIMIT_BUY\n",
    "assert OrderType.from_type_side('limit','sell') == OrderType.LIMIT_SELL\n",
    "assert OrderType.from_type_side('market','buy') == OrderType.MARKET_BUY\n",
    "assert OrderType.from_type_side('market','sell') == OrderType.MARKET_SELL\n",
    "o = OrderType.LIMIT_BUY\n",
    "assert o.type == 'limit' and o.side == 'buy'"
   ]
  },
  {
   "cell_type": "code",
   "execution_count": null,
   "metadata": {},
   "outputs": [],
   "source": [
    "assert OrderType.LIMIT_BUY in OrderType.buy_types()\n",
    "assert OrderType.MARKET_BUY in OrderType.buy_types()\n",
    "assert OrderType.LIMIT_SELL in OrderType.sell_types()\n",
    "assert OrderType.MARKET_SELL in OrderType.sell_types()"
   ]
  },
  {
   "cell_type": "code",
   "execution_count": null,
   "metadata": {},
   "outputs": [],
   "source": [
    "assert OrderType.LIMIT_BUY.is_buy()\n",
    "assert OrderType.MARKET_BUY.is_buy()\n",
    "assert OrderType.LIMIT_SELL.is_sell()\n",
    "assert OrderType.MARKET_SELL.is_sell()\n",
    "OrderType.LIMIT_BUY.name, OrderType.LIMIT_BUY.value"
   ]
  },
  {
   "cell_type": "markdown",
   "metadata": {},
   "source": [
    "### Order"
   ]
  },
  {
   "cell_type": "code",
   "execution_count": null,
   "metadata": {},
   "outputs": [],
   "source": [
    "asset = Asset(coins.LTC, coins.USDT)\n",
    "order = Order(\n",
    "    exchange_id=ex_cfg.PAPER, \n",
    "    asset=asset,\n",
    "    price=250., \n",
    "    quantity=1, \n",
    "    order_type=OrderType.LIMIT_BUY\n",
    ")\n",
    "Order.from_dict(order.to_dict())"
   ]
  },
  {
   "cell_type": "markdown",
   "metadata": {},
   "source": [
    "### Order Manager"
   ]
  },
  {
   "cell_type": "code",
   "execution_count": null,
   "metadata": {},
   "outputs": [],
   "source": [
    "asset = Asset(coins.LTC, coins.BTC)\n",
    "exchange = load_exchange(ex_cfg.PAPER)\n",
    "exchange.balance = Balance(coins.BTC, 5.0)\n",
    "o1 = Order(exchange.id, asset, price=.01, quantity=1.0, \n",
    "           order_type=OrderType.LIMIT_BUY)\n",
    "o2 = Order(exchange.id, asset, price=.01, quantity=1.0, \n",
    "           order_type=OrderType.LIMIT_SELL)\n",
    "orders = {\n",
    "    o1.id: o1,\n",
    "    o2.id: o2\n",
    "}\n",
    "orders,exchange.fetch_balance(), exchange.fetch_ticker(asset)['ask']"
   ]
  },
  {
   "cell_type": "code",
   "execution_count": null,
   "metadata": {},
   "outputs": [],
   "source": [
    "order = order_manager.place_order(exchange, orders[o1.id])\n",
    "orders[o1.id] = order\n",
    "orders,exchange.fetch_balance()"
   ]
  },
  {
   "cell_type": "code",
   "execution_count": null,
   "metadata": {},
   "outputs": [],
   "source": [
    "resp = order_manager.place_order(exchange, orders[o2.id])\n",
    "orders[o2.id] = resp\n",
    "orders,exchange.balance"
   ]
  },
  {
   "cell_type": "code",
   "execution_count": null,
   "metadata": {},
   "outputs": [],
   "source": [
    "limit_buy = order_manager.build_limit_buy_order(exchange, asset, quantity=1.0, price=.1)\n",
    "limit_sell = order_manager.build_limit_sell_order(exchange, asset, quantity=1.0, price=.1)\n",
    "market_buy = order_manager.build_market_buy_order(exchange, asset, quantity=1.0)\n",
    "market_sell = order_manager.build_market_sell_order(exchange, asset, quantity=1.0)\n",
    "orders = [limit_buy, limit_sell, market_buy, market_sell]\n",
    "orders"
   ]
  },
  {
   "cell_type": "code",
   "execution_count": null,
   "metadata": {},
   "outputs": [],
   "source": [
    "results = []\n",
    "for order in orders:\n",
    "    res = order_manager.place_order(exchange, order)\n",
    "    results.append(res)\n",
    "results"
   ]
  },
  {
   "cell_type": "code",
   "execution_count": null,
   "metadata": {},
   "outputs": [],
   "source": [
    "exchange.fetch_balance()"
   ]
  },
  {
   "cell_type": "code",
   "execution_count": null,
   "metadata": {},
   "outputs": [],
   "source": [
    "exchange.fetch_orders(asset)"
   ]
  },
  {
   "cell_type": "code",
   "execution_count": null,
   "metadata": {},
   "outputs": [],
   "source": [
    "exchange.fetch_order('32687cf2c22645fbbd2d639be8a76256', asset)"
   ]
  },
  {
   "cell_type": "code",
   "execution_count": null,
   "metadata": {},
   "outputs": [],
   "source": [
    "updated_orders = exchange.fetch_orders(asset)\n",
    "ex_order_ids = [order.ex_order_id for order in updated_orders]\n",
    "print(ex_order_ids)\n",
    "updated_orders"
   ]
  },
  {
   "cell_type": "code",
   "execution_count": null,
   "metadata": {},
   "outputs": [],
   "source": [
    "ex_orders = order_manager.get_orders(exchange, ex_order_ids, assets=asset)\n",
    "print(ex_orders)"
   ]
  },
  {
   "cell_type": "code",
   "execution_count": null,
   "metadata": {
    "scrolled": false
   },
   "outputs": [],
   "source": [
    "print(\"OPEN\", order_manager.get_open_orders(ex_orders))\n",
    "print(\"CANCELED\", order_manager.get_canceled_orders(ex_orders))\n",
    "print(\"FILLED\", order_manager.get_filled_orders(ex_orders))"
   ]
  },
  {
   "cell_type": "markdown",
   "metadata": {},
   "source": [
    "### Position"
   ]
  },
  {
   "cell_type": "code",
   "execution_count": null,
   "metadata": {},
   "outputs": [],
   "source": [
    "asset = Asset(coins.LTC, coins.BTC)\n",
    "pos = Position(asset, quantity=1, cost_price=250.0)\n",
    "print(\"Asset\", pos.asset.to_dict())\n",
    "print(\"Value\", pos.cost_value, \"Quantity\", pos.quantity, \"Cost\", pos.cost_price)\n",
    "\n",
    "pos.update(1, 200)\n",
    "print(\"Value\", pos.cost_value, \"Quantity\", pos.quantity, \"Cost\", pos.cost_price)\n",
    "\n",
    "pos.update(-1, 200)\n",
    "print(\"Value\", pos.cost_value, \"Quantity\", pos.quantity, \"Cost\", pos.cost_price)\n",
    "\n",
    "# Go short\n",
    "pos.update(-2, 150)\n",
    "print(\"Value\", pos.cost_value, \"Quantity\", pos.quantity, \"Cost\", pos.cost_price)\n",
    "\n",
    "# Close the short for a LOSS and go long (price went up, we had to pay $300 to cover our short)\n",
    "# then we bought another share because we're newbs\n",
    "pos.update(2, 300)\n",
    "print(\"Value\", pos.cost_value, \"Quantity\", pos.quantity, \"Cost\", pos.cost_price)"
   ]
  },
  {
   "cell_type": "code",
   "execution_count": null,
   "metadata": {},
   "outputs": [],
   "source": [
    "\"\"\"\n",
    "Assume that an investor made the following consecutive fund purchases in a taxable account: 1,500 shares at $20, 1,000 shares at $10 and 1,250 shares at $8. The investor’s average cost basis is calculated by dividing $50,000/3,750 shares. The average cost is $13.33.\n",
    "\n",
    "Suppose the investor then sells 1,000 shares of the fund at $19.\n",
    "\n",
    "Gain/loss using average cost basis: ($19 - $13.33) x 1,000 shares = $5,667\n",
    "\"\"\"\n",
    "\n",
    "asset = Asset(coins.LTC, coins.BTC)\n",
    "pos = Position(asset, quantity=1500, cost_price=20.0)\n",
    "print(\"Value\", pos.cost_value, \"Quantity\", pos.quantity, \"Cost\", pos.cost_price)\n",
    "pos.update(txn_quantity=1000, txn_price=10)\n",
    "print(\"Value\", pos.cost_value, \"Quantity\", pos.quantity, \"Cost\", pos.cost_price)\n",
    "pos.update(txn_quantity=1250, txn_price=8)\n",
    "print(\"Value\", pos.cost_value, \"Quantity\", pos.quantity, \"Cost\", pos.cost_price)\n",
    "\n",
    "last_cost = pos.cost_price\n",
    "pos.update(txn_quantity=-1000, txn_price=19)\n",
    "print(\"Value\", pos.cost_value, \"Quantity\", pos.quantity, \"Cost\", pos.cost_price)\n",
    "print(\"Profit\", (19 - last_cost) * 1000)"
   ]
  },
  {
   "cell_type": "code",
   "execution_count": null,
   "metadata": {},
   "outputs": [],
   "source": [
    "Position.from_dict(pos.to_dict()).to_dict()"
   ]
  },
  {
   "cell_type": "markdown",
   "metadata": {},
   "source": [
    "### PerformanceTracker"
   ]
  },
  {
   "cell_type": "code",
   "execution_count": null,
   "metadata": {},
   "outputs": [],
   "source": [
    "asset = Asset(coins.BTC, coins.USD)\n",
    "perf = PerformanceTracker(starting_cash=5000, timeframe=Timeframe.ONE_MIN)\n",
    "perf.to_dict()"
   ]
  },
  {
   "cell_type": "code",
   "execution_count": null,
   "metadata": {},
   "outputs": [],
   "source": [
    "# Buy 1 BTC for $1000\n",
    "pos1 = Position(asset, quantity=1, cost_price=1000.0)\n",
    "positions = [pos1]\n",
    "perf.add_period(\n",
    "    start=datetime.datetime.utcnow(),\n",
    "    cash=4000.0,\n",
    "    positions=positions\n",
    ")\n",
    "perf.to_dict()"
   ]
  },
  {
   "cell_type": "code",
   "execution_count": null,
   "metadata": {},
   "outputs": [],
   "source": [
    "\"\"\"\n",
    "Value of BTC increased $100\n",
    "Position Return\n",
    "    Return = .10\n",
    "    PnL = $100\n",
    "Cumulative Return\n",
    "    Return = $100 / $5000 = .02\n",
    "    PnL = $100\n",
    "\"\"\"\n",
    "pos1.latest_price = 1100\n",
    "perf.add_period(\n",
    "    start=datetime.datetime.utcnow(),\n",
    "    cash=4000.0,\n",
    "    positions=positions\n",
    ")\n",
    "perf.to_dict()"
   ]
  },
  {
   "cell_type": "code",
   "execution_count": null,
   "metadata": {},
   "outputs": [],
   "source": [
    "\"\"\"\n",
    "Value of BTC increased again $400\n",
    "Position Return\n",
    "    Return = .5\n",
    "    PnL = $500\n",
    "Cumulative Return\n",
    "    Return = $500 / $5000 = .1\n",
    "    PnL = $500\n",
    "\"\"\"\n",
    "pos1.latest_price = 1500\n",
    "perf.add_period(\n",
    "    start=datetime.datetime.utcnow(),\n",
    "    cash=4000.0,\n",
    "    positions=positions\n",
    ")\n",
    "perf.to_dict()"
   ]
  },
  {
   "cell_type": "code",
   "execution_count": null,
   "metadata": {},
   "outputs": [],
   "source": [
    "# Buy 1 ETH for $500\n",
    "asset = Asset(coins.ETH, coins.USD)\n",
    "pos2 = Position(asset, quantity=1, cost_price=500.0)\n",
    "positions.append(pos2)\n",
    "perf.add_period(\n",
    "    start=datetime.datetime.utcnow(),\n",
    "    cash=3500.0,\n",
    "    positions=positions\n",
    ")\n",
    "perf.to_dict()"
   ]
  },
  {
   "cell_type": "code",
   "execution_count": null,
   "metadata": {
    "scrolled": false
   },
   "outputs": [],
   "source": [
    "\"\"\"\n",
    "Value of ETH decreased $100\n",
    "Position Return\n",
    "    Return = -100/500\n",
    "    PnL = -100\n",
    "Cumulative Return\n",
    "    Return = 400 / 5000 = .08\n",
    "    PnL = 400\n",
    "\"\"\"\n",
    "pos2.latest_price = 400\n",
    "perf.add_period(\n",
    "    start=datetime.datetime.utcnow(),\n",
    "    cash=3500.0,\n",
    "    positions=positions\n",
    ")\n",
    "perf.to_dict()"
   ]
  },
  {
   "cell_type": "code",
   "execution_count": null,
   "metadata": {},
   "outputs": [],
   "source": [
    "PerformanceTracker.from_dict(perf.to_dict())"
   ]
  },
  {
   "cell_type": "markdown",
   "metadata": {},
   "source": [
    "### Portfolio"
   ]
  },
  {
   "cell_type": "code",
   "execution_count": null,
   "metadata": {},
   "outputs": [],
   "source": [
    "starting_cash = 5000\n",
    "cash_currency = coins.BTC\n",
    "exchange = load_exchange(ex_cfg.PAPER)\n",
    "perf = PerformanceTracker(starting_cash, Timeframe.ONE_MIN)\n",
    "portfolio = Portfolio(cash_currency, starting_cash, perf)"
   ]
  },
  {
   "cell_type": "code",
   "execution_count": null,
   "metadata": {},
   "outputs": [],
   "source": [
    "# Buy 1 BTC for $1000\n",
    "asset = Asset(coins.BTC, coins.USD)\n",
    "latest_prices = {asset.symbol: .14}\n",
    "order = Order(\n",
    "    exchange_id=exchange.id, \n",
    "    asset=asset,\n",
    "    price=1000., \n",
    "    quantity=1, \n",
    "    order_type=OrderType.LIMIT_BUY\n",
    ")\n",
    "order"
   ]
  },
  {
   "cell_type": "code",
   "execution_count": null,
   "metadata": {},
   "outputs": [],
   "source": [
    "portfolio.update(datetime.datetime.utcnow(), [order], latest_prices)\n",
    "portfolio"
   ]
  },
  {
   "cell_type": "code",
   "execution_count": null,
   "metadata": {},
   "outputs": [],
   "source": [
    "# Buy more BTC, price has risen $500\n",
    "order = Order(\n",
    "    exchange_id=exchange.id, \n",
    "    asset=asset,\n",
    "    price=1500., \n",
    "    quantity=1, \n",
    "    order_type=OrderType.LIMIT_BUY\n",
    ")\n",
    "portfolio.update(datetime.datetime.utcnow(), [order], latest_prices)\n",
    "portfolio"
   ]
  },
  {
   "cell_type": "code",
   "execution_count": null,
   "metadata": {},
   "outputs": [],
   "source": [
    "# Sell all BTC at profit\n",
    "order = Order(\n",
    "    exchange_id=exchange.id, \n",
    "    asset=asset,\n",
    "    price=1500., \n",
    "    quantity=2, \n",
    "    order_type=OrderType.LIMIT_SELL\n",
    ")\n",
    "portfolio.update(datetime.datetime.utcnow(), [order], latest_prices)\n",
    "portfolio"
   ]
  },
  {
   "cell_type": "code",
   "execution_count": null,
   "metadata": {},
   "outputs": [],
   "source": [
    "Portfolio.from_dict(portfolio.to_dict())"
   ]
  },
  {
   "cell_type": "markdown",
   "metadata": {},
   "source": [
    "### Record"
   ]
  },
  {
   "cell_type": "code",
   "execution_count": null,
   "metadata": {},
   "outputs": [],
   "source": [
    "asset = Asset(coins.ETH, coins.BTC)\n",
    "feed = get_test_csv_feed(ex_cfg.BINANCE, [asset])\n",
    "starting_cash = 5000\n",
    "perf = PerformanceTracker(starting_cash, Timeframe.THIRTY_MIN)\n",
    "portfolio = Portfolio(coins.BTC, starting_cash, perf)\n",
    "\n",
    "metrics = {\n",
    "    'SMA': [1, 2, 3, 4],\n",
    "    'RSI': [3, 4, 2, 1]\n",
    "}\n",
    "\n",
    "o1 = Order(ex_cfg.PAPER, Asset(coins.ETH, coins.BTC), 5.0, 100.0, OrderType.LIMIT_BUY)\n",
    "o2 = Order(ex_cfg.PAPER, Asset(coins.LTC, coins.BTC), 5.0, 100.0, OrderType.LIMIT_BUY)\n",
    "orders = {\n",
    "    o1.id: o1,\n",
    "    o2.id: o2\n",
    "}"
   ]
  },
  {
   "cell_type": "code",
   "execution_count": null,
   "metadata": {},
   "outputs": [],
   "source": [
    "root_dir = os.path.join(cfg.DATA_DIR, 'default_backtest')\n",
    "store = FileStore(root_dir)\n",
    "\n",
    "record = Record(config={}, portfolio=portfolio, balance=Balance(), store=store)\n",
    "record.orders = orders\n",
    "record.metrics = metrics\n",
    "record.ohlcv = feed.history().ohlcv_df\n",
    "record.save()\n",
    "record = Record.load(root_dir)"
   ]
  },
  {
   "cell_type": "code",
   "execution_count": null,
   "metadata": {},
   "outputs": [],
   "source": [
    "feed.next()\n",
    "feed.next()\n",
    "record.ohlcv = feed.history().ohlcv_df\n",
    "record.save()\n",
    "record = Record.load(root_dir)"
   ]
  },
  {
   "cell_type": "code",
   "execution_count": null,
   "metadata": {},
   "outputs": [],
   "source": [
    "record.add_ohlcv(feed.next())"
   ]
  },
  {
   "cell_type": "code",
   "execution_count": null,
   "metadata": {},
   "outputs": [],
   "source": [
    "feed.next().row(0)"
   ]
  },
  {
   "cell_type": "code",
   "execution_count": null,
   "metadata": {},
   "outputs": [],
   "source": [
    "record.ohlcv"
   ]
  },
  {
   "cell_type": "code",
   "execution_count": null,
   "metadata": {
    "scrolled": false
   },
   "outputs": [],
   "source": [
    "print(record.config)\n",
    "print(record.metrics)\n",
    "print(record.balance)\n",
    "print(record.orders)\n",
    "print(record.ohlcv.head()['utc'])\n",
    "print(record.portfolio)"
   ]
  },
  {
   "cell_type": "markdown",
   "metadata": {
    "heading_collapsed": true
   },
   "source": [
    "### Context"
   ]
  },
  {
   "cell_type": "code",
   "execution_count": null,
   "metadata": {
    "hidden": true
   },
   "outputs": [],
   "source": [
    "# From Objects\n",
    "asset = Asset(coins.ETH, coins.BTC)\n",
    "starting_cash = 5000\n",
    "exchange = load_exchange(ex_cfg.PAPER)\n",
    "store = FileStore(os.path.join(cfg.DATA_DIR, 'default'))\n",
    "perf = PerformanceTracker(starting_cash, Timeframe.THIRTY_MIN)\n",
    "portfolio = Portfolio(starting_cash, perf)\n",
    "feed = get_test_csv_feed(ex_cfg.BINANCE, [asset])\n",
    "config = {'experiment':'default'}\n",
    "record = Record(config=config, \n",
    "                portfolio=portfolio, \n",
    "                balance=Balance(), \n",
    "                store=store)"
   ]
  },
  {
   "cell_type": "code",
   "execution_count": null,
   "metadata": {
    "hidden": true
   },
   "outputs": [],
   "source": [
    "ctx = Context(exchange, feed, record)\n",
    "print(ctx.record.config)\n",
    "print(ctx.record.metrics)\n",
    "print(ctx.record.balance)\n",
    "print(ctx.record.orders)\n",
    "print(ctx.record.ohlcv)\n",
    "print(ctx.record.portfolio)"
   ]
  },
  {
   "cell_type": "markdown",
   "metadata": {
    "heading_collapsed": true
   },
   "source": [
    "### ChartDataProviders"
   ]
  },
  {
   "cell_type": "code",
   "execution_count": null,
   "metadata": {
    "hidden": true
   },
   "outputs": [],
   "source": [
    "root = os.path.join(cfg.DATA_DIR, 'default')\n",
    "rp = RecordChartDataProvider(root)"
   ]
  },
  {
   "cell_type": "code",
   "execution_count": null,
   "metadata": {
    "hidden": true,
    "scrolled": false
   },
   "outputs": [],
   "source": [
    "# TODO: THIS WILL FAIL UNLESS A NON-EMPTY PORTFOLIO EXISTS IN THE ABOVE DIRECTORY\n",
    "print(\"OHLCV\\n\", rp.get_ohlcv(coins.BTC))\n",
    "print(\"\\nPERFORMANCE\\n\", rp.get_performance())\n",
    "print(\"\\nRETURNS\\n\", rp.get_returns(coins.BTC, ex_cfg.PAPER))\n",
    "print(\"\\nPNL\\n\", rp.get_pnl(coins.BTC, ex_cfg.PAPER))\n",
    "\n",
    "print(\"\\nBALANCE\\n\", rp.get_balance())\n",
    "print(\"\\nBALANCE_DICT\\n\", rp.get_balance_dct())\n",
    "print(\"\\nPOSITIONS\\n\", rp.get_positions())\n",
    "print(\"\\nPOSITIONS_DICT\\n\", rp.get_positions_dct())\n",
    "\n",
    "print(\"\\nORDERS\\n\", rp.get_orders())\n",
    "print(\"\\nORDERS_DICT\\n\", rp.get_orders_dct())\n",
    "print(\"\\nMETRICS\\n\", rp.get_metrics())"
   ]
  },
  {
   "cell_type": "markdown",
   "metadata": {
    "heading_collapsed": true
   },
   "source": [
    "### Charts"
   ]
  },
  {
   "cell_type": "code",
   "execution_count": null,
   "metadata": {
    "hidden": true
   },
   "outputs": [],
   "source": [
    "feed = get_test_csv_feed(ex_cfg.BINANCE, Asset(coins.ETH,coins.BTC))"
   ]
  },
  {
   "cell_type": "code",
   "execution_count": null,
   "metadata": {
    "hidden": true
   },
   "outputs": [],
   "source": [
    "# We need to increment the feed to start getting history data\n",
    "for i in range(10):\n",
    "    _ = feed.next()"
   ]
  },
  {
   "cell_type": "code",
   "execution_count": null,
   "metadata": {
    "hidden": true
   },
   "outputs": [],
   "source": [
    "punisher.utils.charts.plot_range(\n",
    "    feed.history().ohlcv_df, start=None, end=None, \n",
    "    column_name='close_ETH/BTC_'+ex_cfg.BINANCE)"
   ]
  },
  {
   "cell_type": "markdown",
   "metadata": {
    "heading_collapsed": true
   },
   "source": [
    "### Dash"
   ]
  },
  {
   "cell_type": "code",
   "execution_count": null,
   "metadata": {
    "hidden": true
   },
   "outputs": [],
   "source": [
    "import plotly\n",
    "import plotly.plotly as py\n",
    "import plotly.graph_objs as go\n",
    "\n",
    "periods = record.portfolio.perf.periods\n",
    "df = pd.DataFrame([\n",
    "    [p['end_time'], p['pnl']] for p in periods\n",
    "], columns=['utc','pnl'])\n",
    "df"
   ]
  },
  {
   "cell_type": "code",
   "execution_count": null,
   "metadata": {
    "hidden": true
   },
   "outputs": [],
   "source": [
    "positions = pd.DataFrame([p.to_dict() for p in record.portfolio.positions])\n",
    "dct = [p.to_dict() for p in record.portfolio.positions]\n",
    "{p['asset']: p for p in dct}"
   ]
  },
  {
   "cell_type": "code",
   "execution_count": null,
   "metadata": {
    "hidden": true
   },
   "outputs": [],
   "source": [
    "cols = ['coin', 'free', 'used', 'total']\n",
    "balance = Balance()\n",
    "coins = balance.currencies\n",
    "dct = balance.to_dict()\n",
    "df = pd.DataFrame(\n",
    "    [[c, dct[c]['free'], dct[c]['used'], dct[c]['total']] for c in coins],\n",
    "    columns=cols\n",
    ")\n",
    "\n",
    "df"
   ]
  },
  {
   "cell_type": "code",
   "execution_count": null,
   "metadata": {
    "hidden": true
   },
   "outputs": [],
   "source": []
  }
 ],
 "metadata": {
  "kernelspec": {
   "display_name": "Python 3",
   "language": "python",
   "name": "python3"
  },
  "language_info": {
   "codemirror_mode": {
    "name": "ipython",
    "version": 3
   },
   "file_extension": ".py",
   "mimetype": "text/x-python",
   "name": "python",
   "nbconvert_exporter": "python",
   "pygments_lexer": "ipython3",
   "version": "3.6.4"
  },
  "latex_envs": {
   "LaTeX_envs_menu_present": true,
   "autocomplete": true,
   "bibliofile": "biblio.bib",
   "cite_by": "apalike",
   "current_citInitial": 1,
   "eqLabelWithNumbers": true,
   "eqNumInitial": 1,
   "hotkeys": {
    "equation": "Ctrl-E",
    "itemize": "Ctrl-I"
   },
   "labels_anchors": false,
   "latex_user_defs": false,
   "report_style_numbering": false,
   "user_envs_cfg": false
  },
  "toc": {
   "nav_menu": {
    "height": "71px",
    "width": "254px"
   },
   "number_sections": true,
   "sideBar": true,
   "skip_h1_title": false,
   "toc_cell": false,
   "toc_position": {},
   "toc_section_display": "block",
   "toc_window_display": false
  }
 },
 "nbformat": 4,
 "nbformat_minor": 2
}
