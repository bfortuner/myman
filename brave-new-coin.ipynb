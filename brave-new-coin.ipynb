{
 "cells": [
  {
   "cell_type": "code",
   "execution_count": 26,
   "metadata": {},
   "outputs": [
    {
     "name": "stdout",
     "output_type": "stream",
     "text": [
      "The autoreload extension is already loaded. To reload it, use:\n",
      "  %reload_ext autoreload\n"
     ]
    }
   ],
   "source": [
    "%matplotlib inline\n",
    "%load_ext autoreload\n",
    "%autoreload 2\n",
    "from punisher.common import *\n",
    "from punisher.utils.dates import utc_to_local"
   ]
  },
  {
   "cell_type": "markdown",
   "metadata": {},
   "source": [
    "## Download"
   ]
  },
  {
   "cell_type": "code",
   "execution_count": 3,
   "metadata": {},
   "outputs": [],
   "source": [
    "# https://market.mashape.com/BraveNewCoin/digital-currency-ex-rates#mwa-historic-exchange-rates\n",
    "# https://bravenewcoin.com/api/digital-currency-exchange-rates/\n",
    "\n",
    "# Coins\n",
    "# BTC start = 1396328100 - datetime.datetime(2014, 3, 31, 21, 55)\n",
    "# ETH start = 1439011500 - datetime.datetime(2015, 8, 7, 22, 25)\n",
    "# LTC start = 1396344000 - datetime.datetime(2014, 4, 1, 2, 20)\n",
    "# XRP start = 1397010900 - datetime.datetime(2014, 4, 8, 19, 35)\n",
    "\n",
    "# Meta\n",
    "# columns = ['timestamp', 'index', 'volume', 'index_usd', 'volume_usd']\n",
    "# Returns 1000 rows? Multiple days worth of data...\n",
    "# 230 requests for 2 years of 5-min data?\n",
    "# Looks like they fill in missing data with previous known price\n",
    "# They have 0 volume days"
   ]
  },
  {
   "cell_type": "code",
   "execution_count": 112,
   "metadata": {},
   "outputs": [],
   "source": [
    "asset = Asset(coins.BTC, coins.USD)\n",
    "timeframe = Timeframe.FIVE_MIN\n",
    "exchange_id = ex_cfg.BNC\n",
    "start = datetime.datetime(year=2018, month=1, day=1, hour=0)\n",
    "end = datetime.datetime(year=2018, month=1, day=2, hour=0)"
   ]
  },
  {
   "cell_type": "code",
   "execution_count": 138,
   "metadata": {
    "scrolled": false
   },
   "outputs": [],
   "source": [
    "df = ohlcv_feed.load_ohlcv(exchange_id, asset, timeframe)\n",
    "df.head()"
   ]
  },
  {
   "cell_type": "code",
   "execution_count": 148,
   "metadata": {},
   "outputs": [
    {
     "data": {
      "text/html": [
       "<div>\n",
       "<style scoped>\n",
       "    .dataframe tbody tr th:only-of-type {\n",
       "        vertical-align: middle;\n",
       "    }\n",
       "\n",
       "    .dataframe tbody tr th {\n",
       "        vertical-align: top;\n",
       "    }\n",
       "\n",
       "    .dataframe thead th {\n",
       "        text-align: right;\n",
       "    }\n",
       "</style>\n",
       "<table border=\"1\" class=\"dataframe\">\n",
       "  <thead>\n",
       "    <tr style=\"text-align: right;\">\n",
       "      <th></th>\n",
       "      <th>open_BTC/USD_gdax</th>\n",
       "      <th>high_BTC/USD_gdax</th>\n",
       "      <th>low_BTC/USD_gdax</th>\n",
       "      <th>close_BTC/USD_gdax</th>\n",
       "      <th>volume_BTC/USD_gdax</th>\n",
       "      <th>utc</th>\n",
       "      <th>open_BTC/USD_bnc</th>\n",
       "      <th>high_BTC/USD_bnc</th>\n",
       "      <th>low_BTC/USD_bnc</th>\n",
       "      <th>close_BTC/USD_bnc</th>\n",
       "      <th>volume_BTC/USD_bnc</th>\n",
       "    </tr>\n",
       "    <tr>\n",
       "      <th>epoch</th>\n",
       "      <th></th>\n",
       "      <th></th>\n",
       "      <th></th>\n",
       "      <th></th>\n",
       "      <th></th>\n",
       "      <th></th>\n",
       "      <th></th>\n",
       "      <th></th>\n",
       "      <th></th>\n",
       "      <th></th>\n",
       "      <th></th>\n",
       "    </tr>\n",
       "  </thead>\n",
       "  <tbody>\n",
       "    <tr>\n",
       "      <th>1514764800</th>\n",
       "      <td>13863.14</td>\n",
       "      <td>13885.34</td>\n",
       "      <td>13803.00</td>\n",
       "      <td>13803.00</td>\n",
       "      <td>18.827403</td>\n",
       "      <td>2018-01-01 00:00:00</td>\n",
       "      <td>13897.78968</td>\n",
       "      <td>13897.78968</td>\n",
       "      <td>13897.78968</td>\n",
       "      <td>13897.78968</td>\n",
       "      <td>1.309625e+09</td>\n",
       "    </tr>\n",
       "    <tr>\n",
       "      <th>1514765100</th>\n",
       "      <td>13803.00</td>\n",
       "      <td>13803.00</td>\n",
       "      <td>13676.41</td>\n",
       "      <td>13753.00</td>\n",
       "      <td>24.758469</td>\n",
       "      <td>2018-01-01 00:05:00</td>\n",
       "      <td>13849.65477</td>\n",
       "      <td>13849.65477</td>\n",
       "      <td>13849.65477</td>\n",
       "      <td>13849.65477</td>\n",
       "      <td>1.303419e+09</td>\n",
       "    </tr>\n",
       "    <tr>\n",
       "      <th>1514765400</th>\n",
       "      <td>13753.00</td>\n",
       "      <td>13753.00</td>\n",
       "      <td>13702.85</td>\n",
       "      <td>13718.14</td>\n",
       "      <td>18.308099</td>\n",
       "      <td>2018-01-01 00:10:00</td>\n",
       "      <td>13776.31215</td>\n",
       "      <td>13776.31215</td>\n",
       "      <td>13776.31215</td>\n",
       "      <td>13776.31215</td>\n",
       "      <td>1.297620e+09</td>\n",
       "    </tr>\n",
       "    <tr>\n",
       "      <th>1514765700</th>\n",
       "      <td>13718.13</td>\n",
       "      <td>13718.14</td>\n",
       "      <td>13650.00</td>\n",
       "      <td>13671.43</td>\n",
       "      <td>28.097246</td>\n",
       "      <td>2018-01-01 00:15:00</td>\n",
       "      <td>13748.76131</td>\n",
       "      <td>13748.76131</td>\n",
       "      <td>13748.76131</td>\n",
       "      <td>13748.76131</td>\n",
       "      <td>1.291662e+09</td>\n",
       "    </tr>\n",
       "    <tr>\n",
       "      <th>1514766000</th>\n",
       "      <td>13671.42</td>\n",
       "      <td>13683.62</td>\n",
       "      <td>13640.77</td>\n",
       "      <td>13662.80</td>\n",
       "      <td>18.360003</td>\n",
       "      <td>2018-01-01 00:20:00</td>\n",
       "      <td>13683.72755</td>\n",
       "      <td>13683.72755</td>\n",
       "      <td>13683.72755</td>\n",
       "      <td>13683.72755</td>\n",
       "      <td>1.279837e+09</td>\n",
       "    </tr>\n",
       "  </tbody>\n",
       "</table>\n",
       "</div>"
      ],
      "text/plain": [
       "            open_BTC/USD_gdax  high_BTC/USD_gdax  low_BTC/USD_gdax  \\\n",
       "epoch                                                                \n",
       "1514764800           13863.14           13885.34          13803.00   \n",
       "1514765100           13803.00           13803.00          13676.41   \n",
       "1514765400           13753.00           13753.00          13702.85   \n",
       "1514765700           13718.13           13718.14          13650.00   \n",
       "1514766000           13671.42           13683.62          13640.77   \n",
       "\n",
       "            close_BTC/USD_gdax  volume_BTC/USD_gdax                 utc  \\\n",
       "epoch                                                                     \n",
       "1514764800            13803.00            18.827403 2018-01-01 00:00:00   \n",
       "1514765100            13753.00            24.758469 2018-01-01 00:05:00   \n",
       "1514765400            13718.14            18.308099 2018-01-01 00:10:00   \n",
       "1514765700            13671.43            28.097246 2018-01-01 00:15:00   \n",
       "1514766000            13662.80            18.360003 2018-01-01 00:20:00   \n",
       "\n",
       "            open_BTC/USD_bnc  high_BTC/USD_bnc  low_BTC/USD_bnc  \\\n",
       "epoch                                                             \n",
       "1514764800       13897.78968       13897.78968      13897.78968   \n",
       "1514765100       13849.65477       13849.65477      13849.65477   \n",
       "1514765400       13776.31215       13776.31215      13776.31215   \n",
       "1514765700       13748.76131       13748.76131      13748.76131   \n",
       "1514766000       13683.72755       13683.72755      13683.72755   \n",
       "\n",
       "            close_BTC/USD_bnc  volume_BTC/USD_bnc  \n",
       "epoch                                              \n",
       "1514764800        13897.78968        1.309625e+09  \n",
       "1514765100        13849.65477        1.303419e+09  \n",
       "1514765400        13776.31215        1.297620e+09  \n",
       "1514765700        13748.76131        1.291662e+09  \n",
       "1514766000        13683.72755        1.279837e+09  "
      ]
     },
     "execution_count": 148,
     "metadata": {},
     "output_type": "execute_result"
    }
   ],
   "source": [
    "df = ohlcv_feed.load_multiple_assets(\n",
    "    [ex_cfg.GDAX, ex_cfg.BNC], [asset], timeframe, start, end)\n",
    "df.head()"
   ]
  },
  {
   "cell_type": "code",
   "execution_count": 149,
   "metadata": {},
   "outputs": [
    {
     "data": {
      "text/html": [
       "<div>\n",
       "<style scoped>\n",
       "    .dataframe tbody tr th:only-of-type {\n",
       "        vertical-align: middle;\n",
       "    }\n",
       "\n",
       "    .dataframe tbody tr th {\n",
       "        vertical-align: top;\n",
       "    }\n",
       "\n",
       "    .dataframe thead th {\n",
       "        text-align: right;\n",
       "    }\n",
       "</style>\n",
       "<table border=\"1\" class=\"dataframe\">\n",
       "  <thead>\n",
       "    <tr style=\"text-align: right;\">\n",
       "      <th></th>\n",
       "      <th>close_BTC/USD_gdax</th>\n",
       "      <th>utc</th>\n",
       "      <th>close_BTC/USD_bnc</th>\n",
       "    </tr>\n",
       "    <tr>\n",
       "      <th>epoch</th>\n",
       "      <th></th>\n",
       "      <th></th>\n",
       "      <th></th>\n",
       "    </tr>\n",
       "  </thead>\n",
       "  <tbody>\n",
       "    <tr>\n",
       "      <th>1514764800</th>\n",
       "      <td>13803.00</td>\n",
       "      <td>2018-01-01 00:00:00</td>\n",
       "      <td>13897.78968</td>\n",
       "    </tr>\n",
       "    <tr>\n",
       "      <th>1514765100</th>\n",
       "      <td>13753.00</td>\n",
       "      <td>2018-01-01 00:05:00</td>\n",
       "      <td>13849.65477</td>\n",
       "    </tr>\n",
       "    <tr>\n",
       "      <th>1514765400</th>\n",
       "      <td>13718.14</td>\n",
       "      <td>2018-01-01 00:10:00</td>\n",
       "      <td>13776.31215</td>\n",
       "    </tr>\n",
       "    <tr>\n",
       "      <th>1514765700</th>\n",
       "      <td>13671.43</td>\n",
       "      <td>2018-01-01 00:15:00</td>\n",
       "      <td>13748.76131</td>\n",
       "    </tr>\n",
       "    <tr>\n",
       "      <th>1514766000</th>\n",
       "      <td>13662.80</td>\n",
       "      <td>2018-01-01 00:20:00</td>\n",
       "      <td>13683.72755</td>\n",
       "    </tr>\n",
       "  </tbody>\n",
       "</table>\n",
       "</div>"
      ],
      "text/plain": [
       "            close_BTC/USD_gdax                 utc  close_BTC/USD_bnc\n",
       "epoch                                                                \n",
       "1514764800            13803.00 2018-01-01 00:00:00        13897.78968\n",
       "1514765100            13753.00 2018-01-01 00:05:00        13849.65477\n",
       "1514765400            13718.14 2018-01-01 00:10:00        13776.31215\n",
       "1514765700            13671.43 2018-01-01 00:15:00        13748.76131\n",
       "1514766000            13662.80 2018-01-01 00:20:00        13683.72755"
      ]
     },
     "execution_count": 149,
     "metadata": {},
     "output_type": "execute_result"
    }
   ],
   "source": [
    "df = df[[c for c in df.columns if 'close' in c or c in ['utc']]]\n",
    "df.head()"
   ]
  },
  {
   "cell_type": "markdown",
   "metadata": {},
   "source": [
    "## Plot"
   ]
  },
  {
   "cell_type": "code",
   "execution_count": 157,
   "metadata": {},
   "outputs": [],
   "source": [
    "def plot_prices(time, close, title=\"Price\"):\n",
    "    fig, ax = plt.subplots()\n",
    "    ax.plot(time, close)\n",
    "\n",
    "    years = mdates.YearLocator()   # every year\n",
    "    months = mdates.MonthLocator()  # every month\n",
    "    yearsFmt = mdates.DateFormatter('%Y')\n",
    "    monthsFmt = mdates.DateFormatter('%m')\n",
    "    ax.xaxis.set_major_locator(years)\n",
    "    ax.xaxis.set_major_formatter(yearsFmt)\n",
    "    ax.xaxis.set_minor_locator(months)\n",
    "    ax.xaxis.set_minor_formatter(monthsFmt)\n",
    "\n",
    "    # datemin = datetime.date(r.date.min().year, 1, 1)\n",
    "    # datemax = datetime.date(r.date.max().year + 1, 1, 1)\n",
    "    # ax.set_xlim(datemin, datemax)\n",
    "\n",
    "    # # format the coords message box\n",
    "    # def price(x):\n",
    "    #     return '$%1.2f' % x\n",
    "    # ax.format_xdata = mdates.DateFormatter('%Y-%m-%d')\n",
    "    # ax.format_ydata = price\n",
    "    ax.grid(True)\n",
    "\n",
    "    # rotates and right aligns the x labels, and moves the bottom of the\n",
    "    # axes up to make room for them\n",
    "    fig.autofmt_xdate(rotation=30)\n",
    "    fig.set_size_inches(12,6)\n",
    "    plt.title(title)\n",
    "    #plt.show()\n",
    "\n",
    "def plot_range(df, start, end, y_name):\n",
    "    df = df[ (df['utc'] >= start) & (df['utc'] < end) ]\n",
    "    vals = df[['utc', y_name]].values\n",
    "    plot_prices(vals[:,0], vals[:,1], title=y_name)"
   ]
  },
  {
   "cell_type": "code",
   "execution_count": 158,
   "metadata": {},
   "outputs": [
    {
     "data": {
      "text/plain": [
       "Index(['close_BTC/USD_gdax', 'utc', 'close_BTC/USD_bnc'], dtype='object')"
      ]
     },
     "execution_count": 158,
     "metadata": {},
     "output_type": "execute_result"
    }
   ],
   "source": [
    "df.columns"
   ]
  },
  {
   "cell_type": "code",
   "execution_count": 159,
   "metadata": {},
   "outputs": [
    {
     "data": {
      "image/png": "[encoded data removed]",
      "text/plain": [
       "<matplotlib.figure.Figure at 0x7efef40885f8>"
      ]
     },
     "metadata": {},
     "output_type": "display_data"
    },
    {
     "data": {
      "image/png": "[encoded data removed]",
      "text/plain": [
       "<matplotlib.figure.Figure at 0x7efef404fe80>"
      ]
     },
     "metadata": {},
     "output_type": "display_data"
    }
   ],
   "source": [
    "vals = df[['utc', 'close_BTC/USD_gdax']].values\n",
    "plot_prices(vals[:,0], vals[:,1], 'BTC-GDAX')\n",
    "vals = df[['utc','close_BTC/USD_bnc']].values\n",
    "plot_prices(vals[:,0], vals[:,1], 'BTC-BNC')"
   ]
  },
  {
   "cell_type": "markdown",
   "metadata": {},
   "source": [
    "### Bin"
   ]
  },
  {
   "cell_type": "code",
   "execution_count": null,
   "metadata": {},
   "outputs": [],
   "source": [
    "def get_binned_prices(df, bin_size='30T'):\n",
    "    # https://stackoverflow.com/questions/17001389/pandas-resample-documentation\n",
    "    # http://benalexkeen.com/resampling-time-series-data-with-pandas/\n",
    "    # price_df.resample(rule='30T').ohlc() - (open, high, low, close)\n",
    "    \n",
    "    df = df.set_index('utc')\n",
    "    columns = df.columns\n",
    "    binned = pd.DataFrame()\n",
    "    for col in columns:\n",
    "        if 'price' in col:\n",
    "            binned['open_' + col] = df[col].resample(rule=bin_size).first().round(5)\n",
    "            binned['close_' + col] = df[col].resample(rule=bin_size).last().round(5)\n",
    "            binned['high_' + col] = df[col].resample(rule=bin_size).max().round(5)\n",
    "            binned['low_' + col] = df[col].resample(rule=bin_size).min().round(5)\n",
    "        elif 'volume' in col:\n",
    "            binned[col] = df[col].resample(rule=bin_size).sum().round(0)\n",
    "        else:\n",
    "            binned[col] = df[col]\n",
    "    binned['timestamp'] = [round(t.timestamp()) for t in binned.index]\n",
    "    return binned"
   ]
  },
  {
   "cell_type": "code",
   "execution_count": null,
   "metadata": {},
   "outputs": [],
   "source": [
    "currency_df = load_prices(coins=[coins.BTC, coins.ETH, coins.LTC], fiat=coins.USD, exchange=c.BNC, \n",
    "                       timestep_sec=300, loader=load_bnc_exchange_rate_data)"
   ]
  },
  {
   "cell_type": "code",
   "execution_count": null,
   "metadata": {},
   "outputs": [],
   "source": [
    "currency_30min_df = get_binned_prices(currency_df, bin_size='30T')\n",
    "currency_30min_df.head()"
   ]
  },
  {
   "cell_type": "code",
   "execution_count": null,
   "metadata": {},
   "outputs": [],
   "source": [
    "qgrid_widget = qgrid.QgridWidget(df=currency_30min_df, show_toolbar=False)\n",
    "qgrid_widget"
   ]
  },
  {
   "cell_type": "markdown",
   "metadata": {},
   "source": [
    "## Analyze"
   ]
  },
  {
   "cell_type": "code",
   "execution_count": null,
   "metadata": {},
   "outputs": [],
   "source": [
    "columns = [c for c in currency_30min_df.columns if 'close_price' in c]\n",
    "price_df = currency_30min_df[columns]\n",
    "price_df.columns = ['BTC', 'ETH', 'LTC']\n",
    "price_df.head()"
   ]
  },
  {
   "cell_type": "code",
   "execution_count": null,
   "metadata": {},
   "outputs": [],
   "source": [
    "# Normalize \n",
    "price_df_norm = price_df.divide(price_df.iloc[0])\n",
    "price_df_norm.head()"
   ]
  },
  {
   "cell_type": "code",
   "execution_count": null,
   "metadata": {},
   "outputs": [],
   "source": [
    "price_df_norm.plot()"
   ]
  },
  {
   "cell_type": "code",
   "execution_count": null,
   "metadata": {},
   "outputs": [],
   "source": [
    "# Percent change (from ?)\n",
    "# There are some outliers that will mess up a model. How to fix....\n",
    "# for example, BTC on 2016-09-26 06:00:00\n",
    "price_df_pct = price_df.pct_change()\n",
    "price_df_pct = price_df_pct.replace([1.0, -1.0], np.nan)\n",
    "price_df_pct = price_df_pct.replace([np.inf, -np.inf], np.nan)\n",
    "price_df_pct = price_df_pct.dropna()\n",
    "price_df_pct.head()"
   ]
  },
  {
   "cell_type": "code",
   "execution_count": null,
   "metadata": {},
   "outputs": [],
   "source": [
    "# Correlation\n",
    "# https://www.investopedia.com/terms/n/negative-correlation.asp\n",
    "# https://medium.com/@eliquinox/cryptocurrency-data-analysis-part-ii-downloading-manipulating-and-analysing-bulk-data-e234a43e6259\n",
    "\n",
    "corr = price_df_pct.corr()\n",
    "sns.heatmap(corr, \n",
    "            xticklabels=corr.columns.values,\n",
    "            yticklabels=corr.columns.values)\n",
    "\n",
    "# Print correlations\n",
    "corr['BTC']['ETH'], corr['BTC']['LTC']"
   ]
  },
  {
   "cell_type": "code",
   "execution_count": null,
   "metadata": {},
   "outputs": [],
   "source": [
    "plt.scatter(price_df_pct['BTC'], price_df_pct['LTC'])\n",
    "plt.xlabel('BTC % Return')\n",
    "plt.ylabel('LTC % Return')"
   ]
  },
  {
   "cell_type": "code",
   "execution_count": null,
   "metadata": {},
   "outputs": [],
   "source": [
    "# Linear Regression\n",
    "# https://www.datarobot.com/blog/ordinary-least-squares-in-python/\n",
    "# http://www.statsmodels.org/dev/examples/notebooks/generated/ols.html\n",
    "\n",
    "import statsmodels.api as sm\n",
    "\n",
    "# Dependent, Indenpendent\n",
    "model = sm.OLS(price_df_pct['ETH'],\n",
    "               price_df_pct['LTC']).fit()\n",
    "model.summary()\n",
    "\n",
    "# R squared - how much of LTC change can be explained by BTC changes?"
   ]
  },
  {
   "cell_type": "code",
   "execution_count": null,
   "metadata": {},
   "outputs": [],
   "source": [
    "# multiply each value of BTC pct change by the slope coefficient\n",
    "line = [model.params[0]*i for i in price_df_pct['BTC'].values]\n",
    "plt.plot(price_df_pct['BTC'], line, c = 'r')\n",
    "plt.scatter(price_df_pct['BTC'], price_df_pct['LTC'])\n",
    "plt.xlabel('BTC % Return')\n",
    "plt.ylabel('LTC % Return')"
   ]
  },
  {
   "cell_type": "markdown",
   "metadata": {},
   "source": [
    "## Moving Average Crossover"
   ]
  },
  {
   "cell_type": "code",
   "execution_count": null,
   "metadata": {},
   "outputs": [],
   "source": [
    "# https://en.wikipedia.org/wiki/Moving_average#Simple_moving_average\n",
    "\"\"\"\n",
    "Interestingly it looks like prices quoted in Bitcoin are more predictive ..\n",
    "\"\"\"\n",
    "\n",
    "coin = coins.LTC\n",
    "fiat = coins.USD\n",
    "\n",
    "df = load_prices(coins=[coin], fiat=fiat, exchange=c.BNC, \n",
    "                 timestep_sec=300, loader=load_bnc_exchange_rate_data)\n",
    "df = df.set_index('utc')\n",
    "df = df.rename(columns={'price_'+coin:'close'})\n",
    "df = df.drop(['volume_'+coin], axis=1)"
   ]
  },
  {
   "cell_type": "code",
   "execution_count": null,
   "metadata": {},
   "outputs": [],
   "source": [
    "df.head()"
   ]
  },
  {
   "cell_type": "code",
   "execution_count": null,
   "metadata": {},
   "outputs": [],
   "source": [
    "# Add moving averages\n",
    "df['SMA_1000'] = df['close'].rolling(1000).mean() # 16 hours\n",
    "df['SMA_5000'] = df['close'].rolling(5000).mean() # 4 days\n",
    "df[['close','SMA_1000','SMA_5000']][len(df)-15000:].plot(figsize = (16,10))\n",
    "df = df.dropna()\n",
    "df.head()"
   ]
  },
  {
   "cell_type": "code",
   "execution_count": null,
   "metadata": {},
   "outputs": [],
   "source": [
    "\"\"\"\n",
    "Strategy\n",
    "\n",
    "BUY if Leading SMA is above Lagging SMA by some threshold.\n",
    "SELL if Leading SMA is below Lagging SMA by some threshold.\n",
    "\n",
    "Threshold = 2.5% of current price (filter out weak signals)\n",
    "\"\"\"\n",
    "\n",
    "def test_sma(df, lead, lag, pc_thresh = 0.025):\n",
    "    ma_df = df.copy()\n",
    "    ma_df['lead'] = ma_df['close'].rolling(lead).mean()\n",
    "    ma_df['lag'] = ma_df['close'].rolling(lag).mean()\n",
    "    ma_df.dropna(inplace = True)\n",
    "    ma_df['lead-lag'] = ma_df['lead'] - ma_df['lag']\n",
    "    ma_df['pc_diff'] = ma_df['lead-lag'] / ma_df['close']\n",
    "    ma_df['regime'] = np.where(ma_df['pc_diff'] > pc_thresh, 1, 0)\n",
    "    ma_df['regime'] = np.where(ma_df['pc_diff'] < -pc_thresh, -1, ma_df['regime'])\n",
    "    ma_df['Market'] = np.log(ma_df['close'] / ma_df['close'].shift(1))\n",
    "    ma_df['Strategy'] = ma_df['regime'].shift(1) * ma_df['Market']\n",
    "    ma_df[['Market','Strategy']] = ma_df[['Market','Strategy']].cumsum().apply(np.exp)\n",
    "    return ma_df"
   ]
  },
  {
   "cell_type": "code",
   "execution_count": null,
   "metadata": {},
   "outputs": [],
   "source": [
    "sma_df = test_sma(df, 100, 4100).dropna()\n",
    "sma_df.head()"
   ]
  },
  {
   "cell_type": "code",
   "execution_count": null,
   "metadata": {},
   "outputs": [],
   "source": [
    "sma_df['Strategy'][-1]"
   ]
  },
  {
   "cell_type": "code",
   "execution_count": null,
   "metadata": {},
   "outputs": [],
   "source": [
    "# Buy / Short / Neutral Action\n",
    "sma_df['regime'].plot(figsize=(16,5))"
   ]
  },
  {
   "cell_type": "code",
   "execution_count": null,
   "metadata": {},
   "outputs": [],
   "source": [
    "# Compare to buy and hold\n",
    "sma_df[['Market','Strategy']].iloc[-1]"
   ]
  },
  {
   "cell_type": "code",
   "execution_count": null,
   "metadata": {},
   "outputs": [],
   "source": [
    "sma_df[['Market','Strategy']][len(sma_df)-100000:].plot(figsize = (16,10))"
   ]
  },
  {
   "cell_type": "code",
   "execution_count": null,
   "metadata": {},
   "outputs": [],
   "source": [
    "# Search for Optimal Lead/Lag Periods\n",
    "leads = np.arange(100, 4100, 100)\n",
    "lags = np.arange(4100, 8100, 100)\n",
    "lead_lags = [[lead, lag] for lead in leads for lag in lags]\n",
    "pnls = pd.DataFrame(index=lags,  columns=leads)\n",
    "print(len(lead_lags))"
   ]
  },
  {
   "cell_type": "code",
   "execution_count": null,
   "metadata": {
    "scrolled": false
   },
   "outputs": [],
   "source": [
    "for lead, lag in lead_lags:\n",
    "    results = test_sma(df, lead, lag).dropna()\n",
    "    pnls[lead][lag] = results['Strategy'][-1]\n",
    "    print(lead, lag, pnls[lead][lag])"
   ]
  },
  {
   "cell_type": "code",
   "execution_count": null,
   "metadata": {},
   "outputs": [],
   "source": [
    "pnls.head()"
   ]
  },
  {
   "cell_type": "code",
   "execution_count": null,
   "metadata": {},
   "outputs": [],
   "source": [
    "PNLs = pnls[pnls.columns].astype(float)\n",
    "plt.subplots(figsize = (14,10))\n",
    "sns.heatmap(PNLs, cmap='PiYG')"
   ]
  },
  {
   "cell_type": "code",
   "execution_count": null,
   "metadata": {},
   "outputs": [],
   "source": [
    "# Get max value for each lead lookback\n",
    "\"\"\"\n",
    "Lead of 900 periods produces maximum PnL. \n",
    "By referencing back the the matrix heatmap, we can find the corresponding lag period.\n",
    "\n",
    "Optimal looks like (BTC):\n",
    "    lead = 1200 - 1500\n",
    "    lag = 5400 - 5800\n",
    "\n",
    "lets say (1350, 5800)\n",
    "ratio: 5:1\n",
    "\"\"\"\n",
    "PNLs.max()\n",
    "print(\"optimal\", PNLs[1300][5800])"
   ]
  },
  {
   "cell_type": "markdown",
   "metadata": {},
   "source": [
    "## Assumptions"
   ]
  },
  {
   "cell_type": "markdown",
   "metadata": {},
   "source": [
    "We ignore important factors:\n",
    "\n",
    "* Commissions (25 bps)\n",
    "* Shorting (usually can't do this)\n",
    "* Slippage (we assume we will always get the order price we request)\n",
    "* Market Impact (the market price may change when we start placing orders)\n",
    "* Overfitting (We brute force searched for optimal lead/lag ratio - this won't generalize)\n",
    "* Exchange risk (Exchanges get hacked)"
   ]
  },
  {
   "cell_type": "code",
   "execution_count": null,
   "metadata": {},
   "outputs": [],
   "source": []
  }
 ],
 "metadata": {
  "kernelspec": {
   "display_name": "Python 3",
   "language": "python",
   "name": "python3"
  },
  "language_info": {
   "codemirror_mode": {
    "name": "ipython",
    "version": 3
   },
   "file_extension": ".py",
   "mimetype": "text/x-python",
   "name": "python",
   "nbconvert_exporter": "python",
   "pygments_lexer": "ipython3",
   "version": "3.6.4"
  },
  "latex_envs": {
   "LaTeX_envs_menu_present": true,
   "autocomplete": true,
   "bibliofile": "biblio.bib",
   "cite_by": "apalike",
   "current_citInitial": 1,
   "eqLabelWithNumbers": true,
   "eqNumInitial": 1,
   "hotkeys": {
    "equation": "Ctrl-E",
    "itemize": "Ctrl-I"
   },
   "labels_anchors": false,
   "latex_user_defs": false,
   "report_style_numbering": false,
   "user_envs_cfg": false
  },
  "toc": {
   "colors": {
    "hover_highlight": "#DAA520",
    "navigate_num": "#000000",
    "navigate_text": "#333333",
    "running_highlight": "#FF0000",
    "selected_highlight": "#FFD700",
    "sidebar_border": "#EEEEEE",
    "wrapper_background": "#FFFFFF"
   },
   "moveMenuLeft": true,
   "nav_menu": {
    "height": "49px",
    "width": "254px"
   },
   "navigate_menu": true,
   "number_sections": true,
   "sideBar": true,
   "threshold": 4,
   "toc_cell": false,
   "toc_section_display": "block",
   "toc_window_display": false,
   "widenNotebook": false
  }
 },
 "nbformat": 4,
 "nbformat_minor": 2
}
