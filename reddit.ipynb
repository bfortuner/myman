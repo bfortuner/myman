{
 "cells": [
  {
   "cell_type": "markdown",
   "metadata": {},
   "source": [
    "## Config"
   ]
  },
  {
   "cell_type": "code",
   "execution_count": null,
   "metadata": {},
   "outputs": [],
   "source": [
    "%matplotlib inline\n",
    "%load_ext autoreload\n",
    "%autoreload 2\n",
    "from punisher.common import *\n",
    "from punisher.utils.dates import utc_to_epoch, epoch_to_utc\n",
    "import re\n",
    "from textblob import TextBlob\n",
    "REDDIT_DIR = Path(cfg.DATA_DIR, 'reddit')"
   ]
  },
  {
   "cell_type": "code",
   "execution_count": null,
   "metadata": {},
   "outputs": [],
   "source": [
    "def plot_price(df, field, asset, ex_id):\n",
    "    col_name = ohlcv_feed.get_col_name(field, asset.symbol, ex_id)\n",
    "    punisher.utils.charts.plot_range(\n",
    "        df, start=None, end=None, \n",
    "        column_name=col_name)\n",
    "\n",
    "def color_y_axis(ax, color):\n",
    "    \"\"\"Color your axes.\"\"\"\n",
    "    for t in ax.get_yticklabels():\n",
    "        t.set_color(color)\n",
    "    return None\n",
    "\n",
    "def plot_price_and_tweets(df, tweet_field, price_field):\n",
    "    fig, ax1 = plt.subplots(figsize=(24,18))\n",
    "    ax2 = ax1.twinx()\n",
    "    \n",
    "    ax1.plot(df['utc'], df[price_field], color='r')\n",
    "    ax1.set_xlabel('time (utc)')\n",
    "    ax1.set_ylabel(price_field)\n",
    "    color_y_axis(ax1, 'r')\n",
    "    \n",
    "    ax2.plot(df['utc'], df[tweet_field], color='blue')\n",
    "    ax2.set_ylabel(tweet_field)\n",
    "    color_y_axis(ax2, 'b')\n",
    "    \n",
    "    plt.xticks(rotation=45)\n",
    "    plt.title(price_field + \" vs \" + tweet_field)\n",
    "    ax1.grid(True)\n",
    "    plt.show()\n",
    "    \n",
    "def get_tweet_counts(df, freq='D'):\n",
    "    df = df.groupby(pd.Grouper(key='date', freq=freq)).size().to_frame()\n",
    "    df['epoch'] = [utc_to_epoch(d) for d in df.index]\n",
    "    df['utc'] = df.index\n",
    "    df.set_index('epoch', inplace=True)\n",
    "    df = df.rename(mapper={0:'tweets'}, axis='columns')\n",
    "    return df\n",
    "\n",
    "def get_tweet_sentiment(df, freq='D'):\n",
    "    df = df[['date', 'sentiment']]\n",
    "    df = df.groupby(pd.Grouper(key='date', freq='H')).mean()\n",
    "    df['epoch'] = [utc_to_epoch(d) for d in df.index]\n",
    "    df['utc'] = df.index\n",
    "    df.set_index('epoch', inplace=True)\n",
    "    df = df.rename(mapper={0:'sentiment'}, axis='columns')\n",
    "    return df\n",
    "\n",
    "def plot_tweets(df, freq='D'):\n",
    "    # http://pandas.pydata.org/pandas-docs/stable/timeseries.html#offset-aliases\n",
    "    tweets = get_tweet_counts(df, freq=freq)\n",
    "    fig = plt.figure(figsize=(24,18))\n",
    "    plt.plot(tweets['utc'], tweets['tweets'])\n",
    "    plt.xticks(rotation=45)\n",
    "    plt.grid(True)\n",
    "    plt.title(\"Tweet Count\")\n",
    "    plt.show()"
   ]
  },
  {
   "cell_type": "markdown",
   "metadata": {
    "heading_collapsed": true
   },
   "source": [
    "## Price"
   ]
  },
  {
   "cell_type": "code",
   "execution_count": null,
   "metadata": {
    "hidden": true
   },
   "outputs": [],
   "source": [
    "# https://coinmarketcap.com/api/\n",
    "exchange_ids = [ex_cfg.GDAX]#, ex_cfg.BINANCE]#, ex_cfg.POLONIEX]\n",
    "symbols = ['BTC/USD']#,'BTC/USDT']\n",
    "assets = [Asset.from_symbol(sym) for sym in symbols]\n",
    "start = datetime.datetime(year=2016, month=1, day=1)\n",
    "timeframe = Timeframe.ONE_HOUR\n",
    "downloaded_df = ohlcv_feed.load_multiple_assets(\n",
    "    exchange_ids, assets, timeframe, start, end=None)"
   ]
  },
  {
   "cell_type": "code",
   "execution_count": null,
   "metadata": {
    "hidden": true
   },
   "outputs": [],
   "source": [
    "columns = ['close_BTC/USD_gdax', 'utc']#,'close_BTC/USDT_binance']\n",
    "df = downloaded_df.copy()[columns]\n",
    "#df = df.rename(mapper={columns[i]:exchange_ids[i] for i in range(len(columns)-1)}, axis='columns')\n",
    "df.tail()"
   ]
  },
  {
   "cell_type": "code",
   "execution_count": null,
   "metadata": {
    "hidden": true
   },
   "outputs": [],
   "source": [
    "start = datetime.datetime(year=2016, month=1, day=1, hour=0)\n",
    "end = datetime.datetime(year=2018, month=2, day=6, hour=0)\n",
    "#times = [datetime(year=2018, month=2, day=1, hour=10, minute=i) for i in range(60)] + [datetime(year=2018, month=2, day=1, hour=11, minute=i) for i in range(60)]\n",
    "df = df[(df['utc'] > start) & (df['utc'] < end)]\n",
    "df.plot(x='utc', figsize=(24,18), grid=True)"
   ]
  },
  {
   "cell_type": "markdown",
   "metadata": {
    "heading_collapsed": true
   },
   "source": [
    "## Submissions"
   ]
  },
  {
   "cell_type": "code",
   "execution_count": null,
   "metadata": {
    "hidden": true
   },
   "outputs": [],
   "source": [
    "subreddit_name = 'bitcoin'\n",
    "start = datetime.datetime(year=2016, month=1, day=1, hour=0)\n",
    "end = datetime.datetime(year=2016, month=1, day=2, hour=0)\n",
    "top_n_comments = 10\n",
    "subreddit = reddit_client.get_subreddit(subreddit_name)"
   ]
  },
  {
   "cell_type": "code",
   "execution_count": null,
   "metadata": {
    "hidden": true
   },
   "outputs": [],
   "source": [
    "subs = reddit_client.get_submissions(subreddit_name, start, end, top_n_comments)\n",
    "subs[0]"
   ]
  },
  {
   "cell_type": "code",
   "execution_count": null,
   "metadata": {
    "hidden": true
   },
   "outputs": [],
   "source": [
    "reddit_client.save_submissions(subs, subreddit_name, start)"
   ]
  },
  {
   "cell_type": "code",
   "execution_count": 13,
   "metadata": {
    "hidden": true
   },
   "outputs": [],
   "source": [
    "subs = reddit_client.load_submissions(subreddit_name, start)"
   ]
  },
  {
   "cell_type": "code",
   "execution_count": 14,
   "metadata": {
    "hidden": true
   },
   "outputs": [
    {
     "data": {
      "text/plain": [
       "{'author': 'patriot1889',\n",
       " 'body': \"I saw this image on Facebook and think it would work great as a way to accumulate Bitcoin over the year; http://imgur.com/RInglRG\\n\\nObviously you're going to have to start doing it monthly or bi-weekly at first until the daily amount becomes reasonable.\\n\\nI thought this could be particular useful for newcomers to find their footing and wanted to share it with you!\",\n",
       " 'comments': [{'author': 'DatBuridansAss',\n",
       "   'body': \"It's not .01 per day. The amount you save increases by 1 cent each day. So the first day you put away 1 penny, but the second day you put away 2 pennies, giving you a total of 3 cents. And so on. By day 100 you will be putting a whole dollar into the jar, on top of all the change you've been accumulating.\",\n",
       "   'created_utc': 1451692807.0,\n",
       "   'downs': 0,\n",
       "   'id': 'cyircwx',\n",
       "   'score': 3,\n",
       "   'submission_id': '3z2mc6',\n",
       "   'subreddit': 'bitcoin',\n",
       "   'ups': 3},\n",
       "  {'author': 'goodbtc',\n",
       "   'body': \"I don't get it.\",\n",
       "   'created_utc': 1451691610.0,\n",
       "   'downs': 0,\n",
       "   'id': 'cyiqpyi',\n",
       "   'score': 2,\n",
       "   'submission_id': '3z2mc6',\n",
       "   'subreddit': 'bitcoin',\n",
       "   'ups': 2},\n",
       "  {'author': '',\n",
       "   'body': '[removed]',\n",
       "   'created_utc': 1451693766.0,\n",
       "   'downs': 0,\n",
       "   'id': 'cyirv0g',\n",
       "   'score': 2,\n",
       "   'submission_id': '3z2mc6',\n",
       "   'subreddit': 'bitcoin',\n",
       "   'ups': 2},\n",
       "  {'author': 'xintox2',\n",
       "   'body': \"You can't buy 1 penny when the transaction fee is higher than that. It makes no sense. What I do is buy $20 every tu stay. \",\n",
       "   'created_utc': 1451696538.0,\n",
       "   'downs': 0,\n",
       "   'id': 'cyitake',\n",
       "   'score': 2,\n",
       "   'submission_id': '3z2mc6',\n",
       "   'subreddit': 'bitcoin',\n",
       "   'ups': 2},\n",
       "  {'author': 'patriot1889',\n",
       "   'body': 'As it shows in the picture, you increase the amount you buy by $0.01 each day.',\n",
       "   'created_utc': 1451692663.0,\n",
       "   'downs': 0,\n",
       "   'id': 'cyira4f',\n",
       "   'score': 2,\n",
       "   'submission_id': '3z2mc6',\n",
       "   'subreddit': 'bitcoin',\n",
       "   'ups': 2},\n",
       "  {'author': 'dskloet',\n",
       "   'body': \"Seems like a lot more effort than saving $56 per month.\\n\\nSave a minute each day and by the end of the year you've saved over 6 hours!\",\n",
       "   'created_utc': 1451694295.0,\n",
       "   'downs': 0,\n",
       "   'id': 'cyis4uv',\n",
       "   'score': 1,\n",
       "   'submission_id': '3z2mc6',\n",
       "   'subreddit': 'bitcoin',\n",
       "   'ups': 1},\n",
       "  {'author': 'Atrs92',\n",
       "   'body': 'I use the lawn mower app on iOS. Pretty simple set it up and any spare change left after a purchase is used to buy bitcoin.',\n",
       "   'created_utc': 1451695990.0,\n",
       "   'downs': 0,\n",
       "   'id': 'cyit0iw',\n",
       "   'score': 1,\n",
       "   'submission_id': '3z2mc6',\n",
       "   'subreddit': 'bitcoin',\n",
       "   'ups': 1},\n",
       "  {'author': 'cactuspits',\n",
       "   'body': 'lawnmower ',\n",
       "   'created_utc': 1451697202.0,\n",
       "   'downs': 0,\n",
       "   'id': 'cyitmuf',\n",
       "   'score': 1,\n",
       "   'submission_id': '3z2mc6',\n",
       "   'subreddit': 'bitcoin',\n",
       "   'ups': 1},\n",
       "  {'author': 'allgoodthings1',\n",
       "   'body': 'Automated periodic buys with Coinbase. X dollars worth, every Y period, for as long as you want. A great way to dollar-cost-average your accumulation.',\n",
       "   'created_utc': 1451700184.0,\n",
       "   'downs': 0,\n",
       "   'id': 'cyiv5qe',\n",
       "   'score': 1,\n",
       "   'submission_id': '3z2mc6',\n",
       "   'subreddit': 'bitcoin',\n",
       "   'ups': 1},\n",
       "  {'author': 'Bitcoin_Acolyte',\n",
       "   'body': 'Lawnmower is my preferred method for this kind of thing. ',\n",
       "   'created_utc': 1451718577.0,\n",
       "   'downs': 0,\n",
       "   'id': 'cyj3k86',\n",
       "   'score': 1,\n",
       "   'submission_id': '3z2mc6',\n",
       "   'subreddit': 'bitcoin',\n",
       "   'ups': 1}],\n",
       " 'created_utc': 1451690911.0,\n",
       " 'downs': 0,\n",
       " 'external_url': 'https://www.reddit.com/r/Bitcoin/comments/3z2mc6/a_clever_way_to_accumulate_some_bitcoin_over_time/',\n",
       " 'id': '3z2mc6',\n",
       " 'n_comments': 18,\n",
       " 'score': 1,\n",
       " 'subreddit': 'bitcoin',\n",
       " 'title': 'A clever way to accumulate some Bitcoin over time!',\n",
       " 'ups': 1,\n",
       " 'view_count': None}"
      ]
     },
     "execution_count": 14,
     "metadata": {},
     "output_type": "execute_result"
    }
   ],
   "source": [
    "subs[0]"
   ]
  },
  {
   "cell_type": "code",
   "execution_count": null,
   "metadata": {
    "hidden": true
   },
   "outputs": [],
   "source": []
  },
  {
   "cell_type": "markdown",
   "metadata": {
    "heading_collapsed": true
   },
   "source": [
    "## Sentiment"
   ]
  },
  {
   "cell_type": "markdown",
   "metadata": {
    "hidden": true
   },
   "source": [
    "* https://github.com/abdulfatir/twitter-sentiment-analysis\n",
    "* http://textblob.readthedocs.io/en/dev/\n",
    "* https://github.com/fnielsen/afinn\n",
    "* https://github.com/anfederico/Stocktalk/blob/master/stocktalk/scripts/streaming.py\n",
    "* http://www.nltk.org/\n",
    "* http://textblob.readthedocs.io/en/dev/quickstart.html#translation-and-language-detection\n",
    "* https://github.com/juvaroka/tweetwise"
   ]
  },
  {
   "cell_type": "code",
   "execution_count": null,
   "metadata": {
    "hidden": true
   },
   "outputs": [],
   "source": [
    "def clean_body(text):\n",
    "    text = re.sub(\"[0-9]+\", \"number\", text)\n",
    "    text = re.sub(\"#\", \"\", text)\n",
    "    text = re.sub(\"\\n\", \"\", text)\n",
    "    text = re.sub(\"$[^\\s]+\", \"\", text)\n",
    "    text = re.sub(\"@[^\\s]+\", \"\", text)\n",
    "    text = re.sub(\"(http|https)://[^\\s]*\", \"\", text)\n",
    "    text = re.sub(\"[^\\s]+@[^\\s]+\", \"\", text)\n",
    "    text = re.sub('[^a-z A-Z]+', '', text)\n",
    "    return text\n",
    "\n",
    "def get_sentiment(tweet):\n",
    "    tweet = clean_tweet(tweet.lower())\n",
    "    tweet = TextBlob(tweet)\n",
    "    return tweet.polarity\n",
    "    \n",
    "def add_sentiment_score(tweet_df):\n",
    "    tweets = tweet_df['text'].tolist()\n",
    "    scores = []\n",
    "    for tweet in tweets:\n",
    "        score = get_sentiment(tweet)\n",
    "        scores.append(score)\n",
    "    tweet_df['sentiment'] = scores"
   ]
  },
  {
   "cell_type": "code",
   "execution_count": null,
   "metadata": {
    "hidden": true
   },
   "outputs": [],
   "source": [
    "# Load Tweets\n",
    "query = 'bitcoin OR btc'\n",
    "lang = 'en'\n",
    "tweet_df = twitter_client.load_query_tweets_df(query, lang, start)\n",
    "add_sentiment_score(tweet_df)"
   ]
  },
  {
   "cell_type": "code",
   "execution_count": null,
   "metadata": {
    "hidden": true
   },
   "outputs": [],
   "source": [
    "tweet_df = get_tweet_sentiment(tweet_df, freq='H')\n",
    "tweet_df.head()"
   ]
  },
  {
   "cell_type": "code",
   "execution_count": null,
   "metadata": {
    "hidden": true
   },
   "outputs": [],
   "source": [
    "# Join dataframes\n",
    "df = pd.concat([price_df, tweet_df[['sentiment']]], axis=1)\n",
    "df.head()"
   ]
  },
  {
   "cell_type": "code",
   "execution_count": null,
   "metadata": {
    "hidden": true
   },
   "outputs": [],
   "source": [
    "price_col = ohlcv_feed.get_col_name('close', assets[0].symbol, exchange_ids[0])\n",
    "plot_price_and_tweets(df, tweet_field='sentiment', price_field=price_col)"
   ]
  },
  {
   "cell_type": "code",
   "execution_count": null,
   "metadata": {
    "hidden": true
   },
   "outputs": [],
   "source": []
  }
 ],
 "metadata": {
  "kernelspec": {
   "display_name": "Python 3",
   "language": "python",
   "name": "python3"
  },
  "language_info": {
   "codemirror_mode": {
    "name": "ipython",
    "version": 3
   },
   "file_extension": ".py",
   "mimetype": "text/x-python",
   "name": "python",
   "nbconvert_exporter": "python",
   "pygments_lexer": "ipython3",
   "version": "3.6.4"
  },
  "latex_envs": {
   "LaTeX_envs_menu_present": true,
   "autocomplete": true,
   "bibliofile": "biblio.bib",
   "cite_by": "apalike",
   "current_citInitial": 1,
   "eqLabelWithNumbers": true,
   "eqNumInitial": 1,
   "hotkeys": {
    "equation": "Ctrl-E",
    "itemize": "Ctrl-I"
   },
   "labels_anchors": false,
   "latex_user_defs": false,
   "report_style_numbering": false,
   "user_envs_cfg": false
  },
  "toc": {
   "nav_menu": {
    "height": "71px",
    "width": "254px"
   },
   "number_sections": true,
   "sideBar": true,
   "skip_h1_title": false,
   "toc_cell": false,
   "toc_position": {},
   "toc_section_display": "block",
   "toc_window_display": false
  }
 },
 "nbformat": 4,
 "nbformat_minor": 2
}
